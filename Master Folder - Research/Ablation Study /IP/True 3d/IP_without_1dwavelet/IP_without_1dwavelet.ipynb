{
  "cells": [
    {
      "cell_type": "code",
      "execution_count": 1,
      "id": "777b888e-ca71-4649-bdff-95aaa32fea75",
      "metadata": {
        "colab": {
          "base_uri": "https://localhost:8080/"
        },
        "id": "777b888e-ca71-4649-bdff-95aaa32fea75",
        "outputId": "bd59fc51-3caf-4bc5-dbac-ba6b63d647d8"
      },
      "outputs": [
        {
          "name": "stdout",
          "output_type": "stream",
          "text": [
            "Using device: cuda\n",
            "Mounted at /content/drive\n"
          ]
        }
      ],
      "source": [
        "import numpy as np\n",
        "import torch\n",
        "import torch.nn as nn\n",
        "import torch.nn.functional as F\n",
        "from torch.utils.data import Dataset, DataLoader\n",
        "from sklearn.metrics import accuracy_score, confusion_matrix, classification_report\n",
        "from sklearn.decomposition import PCA\n",
        "from sklearn.model_selection import train_test_split\n",
        "import scipy.io as sio\n",
        "import joblib\n",
        "import matplotlib.pyplot as plt\n",
        "import seaborn as sns\n",
        "from tqdm import tqdm\n",
        "\n",
        "import pywt\n",
        "import random\n",
        "import os\n",
        "from google.colab import drive\n",
        "\n",
        "device = 'cuda' if torch.cuda.is_available() else 'cpu'\n",
        "print(\"Using device:\", device)\n",
        "\n",
        "SEED = 42\n",
        "random.seed(SEED)\n",
        "np.random.seed(SEED)\n",
        "torch.manual_seed(SEED)\n",
        "if torch.cuda.is_available():\n",
        "    torch.cuda.manual_seed_all(SEED)\n",
        "\n",
        "drive.mount('/content/drive', force_remount=True)"
      ]
    },
    {
      "cell_type": "code",
      "execution_count": 2,
      "id": "542a2a37-16f5-465b-bd27-9031618e2b7b",
      "metadata": {
        "id": "542a2a37-16f5-465b-bd27-9031618e2b7b"
      },
      "outputs": [],
      "source": [
        "\n",
        "RAW_DATA_PATH = \"/content/drive/MyDrive/Indian_pines_corrected.mat\"\n",
        "GT_PATH = \"/content/drive/MyDrive/Indian_pines_gt.mat\"\n",
        "\n",
        "PATCH_SIZE = 25\n",
        "N_COMPONENTS = 30\n",
        "TRAIN_RATIO = 0.70\n",
        "NUM_CLASSES = 16\n",
        "BATCH_SIZE = 256\n",
        "\n",
        "OUTPUT_DIR = \"preprocessed_indianpines\"\n",
        "os.makedirs(OUTPUT_DIR, exist_ok=True)"
      ]
    },
    {
      "cell_type": "code",
      "execution_count": 3,
      "id": "4cbcf812-1251-492a-8868-15e39c6fcb3d",
      "metadata": {
        "colab": {
          "base_uri": "https://localhost:8080/"
        },
        "id": "4cbcf812-1251-492a-8868-15e39c6fcb3d",
        "outputId": "ecb6a4e0-0309-4ba4-ade7-ee22c8bb7757"
      },
      "outputs": [
        {
          "name": "stdout",
          "output_type": "stream",
          "text": [
            "Loading data from /content/drive/MyDrive/Indian_pines_corrected.mat and /content/drive/MyDrive/Indian_pines_gt.mat...\n",
            "Original data shape: (145, 145, 200), GT shape: (145, 145)\n",
            "Data reduced to 30 components. Shape: (145, 145, 30)\n"
          ]
        }
      ],
      "source": [
        "\n",
        "\n",
        "print(f\"Loading data from {RAW_DATA_PATH} and {GT_PATH}...\")\n",
        "try:\n",
        "\n",
        "    data_mat = sio.loadmat(RAW_DATA_PATH)\n",
        "    gt_mat = sio.loadmat(GT_PATH)\n",
        "    data = data_mat['indian_pines_corrected'].astype(np.float32)\n",
        "    gt = gt_mat['indian_pines_gt']\n",
        "except FileNotFoundError as e:\n",
        "    print(f\"Error loading raw data: {e}. Check RAW_DATA_PATH and GT_PATH.\")\n",
        "    raise\n",
        "\n",
        "H, W, B = data.shape\n",
        "print(f\"Original data shape: {data.shape}, GT shape: {gt.shape}\")\n",
        "\n",
        "data_reshaped = data.reshape(-1, B)\n",
        "band_mean = data_reshaped.mean(axis=0)\n",
        "band_std = data_reshaped.std(axis=0) + 1e-12\n",
        "data_norm = (data_reshaped - band_mean) / band_std\n",
        "\n",
        "pca = PCA(n_components=N_COMPONENTS, whiten=True, random_state=SEED)\n",
        "data_pca_flat = pca.fit_transform(data_norm)\n",
        "data_pca = data_pca_flat.reshape(H, W, N_COMPONENTS)\n",
        "\n",
        "joblib.dump(\n",
        "    {'pca': pca, 'mean': band_mean, 'std': band_std},\n",
        "    os.path.join(OUTPUT_DIR, 'pca_and_norm.joblib')\n",
        ")\n",
        "print(f\"Data reduced to {N_COMPONENTS} components. Shape: {data_pca.shape}\")\n",
        "\n",
        "data_folder = OUTPUT_DIR"
      ]
    },
    {
      "cell_type": "code",
      "execution_count": 4,
      "id": "18482de6-b36f-4376-a25c-e1d94f32d0ac",
      "metadata": {
        "colab": {
          "base_uri": "https://localhost:8080/"
        },
        "id": "18482de6-b36f-4376-a25c-e1d94f32d0ac",
        "outputId": "cd33170c-55f3-473f-dab7-71265581e581"
      },
      "outputs": [
        {
          "name": "stdout",
          "output_type": "stream",
          "text": [
            "Total extracted patches: (10249, 25, 25, 30), total samples: 10249\n",
            "--- Final Data Shapes ---\n",
            "X_train shape: (7168, 25, 25, 30), y_train shape: (7168,)\n",
            "X_test shape: (3081, 25, 25, 30), y_test shape: (3081,)\n"
          ]
        }
      ],
      "source": [
        "\n",
        "pad = PATCH_SIZE // 2\n",
        "H0, W0, _ = data_pca.shape\n",
        "\n",
        "data_pad = np.pad(data_pca, ((pad, pad), (pad, pad), (0, 0)), mode='constant')\n",
        "gt_pad = np.pad(gt, ((pad, pad), (pad, pad)), mode='constant')\n",
        "\n",
        "patches = []\n",
        "labels = []\n",
        "\n",
        "for i in range(pad, pad + H0):\n",
        "    for j in range(pad, pad + W0):\n",
        "        lab = gt_pad[i, j]\n",
        "        if lab == 0:\n",
        "            continue\n",
        "        patch = data_pad[i-pad:i+pad+1, j-pad:j+pad+1, :]\n",
        "        patches.append(patch.astype(np.float32))\n",
        "        labels.append(int(lab) - 1)\n",
        "\n",
        "patches = np.array(patches)\n",
        "labels = np.array(labels)\n",
        "unique_labels = np.unique(labels)\n",
        "print(f\"Total extracted patches: {patches.shape}, total samples: {len(labels)}\")\n",
        "\n",
        "train_idx_list = []\n",
        "test_idx_list = []\n",
        "\n",
        "for c in unique_labels:\n",
        "    idx_c = np.where(labels == c)[0]\n",
        "    n_train = max(1, int(TRAIN_RATIO * len(idx_c)))\n",
        "    tr_idx, te_idx = train_test_split(\n",
        "        idx_c, train_size=n_train, random_state=SEED, shuffle=True\n",
        "    )\n",
        "    train_idx_list.append(tr_idx)\n",
        "    test_idx_list.append(te_idx)\n",
        "\n",
        "train_idx = np.concatenate(train_idx_list)\n",
        "test_idx = np.concatenate(test_idx_list)\n",
        "\n",
        "X_train = patches[train_idx]\n",
        "y_train = labels[train_idx]\n",
        "X_test = patches[test_idx]\n",
        "y_test = labels[test_idx]\n",
        "\n",
        "perm = np.random.RandomState(SEED).permutation(len(X_train))\n",
        "X_train = X_train[perm]\n",
        "y_train = y_train[perm]\n",
        "\n",
        "print(\"--- Final Data Shapes ---\")\n",
        "print(f\"X_train shape: {X_train.shape}, y_train shape: {y_train.shape}\")\n",
        "print(f\"X_test shape: {X_test.shape}, y_test shape: {y_test.shape}\")"
      ]
    },
    {
      "cell_type": "code",
      "execution_count": 5,
      "id": "35e8cbfb-a670-4954-bd1f-4d375146db2f",
      "metadata": {
        "colab": {
          "base_uri": "https://localhost:8080/"
        },
        "id": "35e8cbfb-a670-4954-bd1f-4d375146db2f",
        "outputId": "ca74ba4d-b688-4bca-b417-dba7410008a1"
      },
      "outputs": [
        {
          "name": "stdout",
          "output_type": "stream",
          "text": [
            "DataLoaders created with BATCH_SIZE=256\n"
          ]
        }
      ],
      "source": [
        "\n",
        "mean, std = X_train.mean(), X_train.std()\n",
        "X_train = (X_train - mean) / std\n",
        "X_test = (X_test - mean) / std\n",
        "\n",
        "class HSIDataset(Dataset):\n",
        "    def __init__(self, X, y, augment=False):\n",
        "        self.X = X\n",
        "        self.y = y\n",
        "        self.augment = augment\n",
        "\n",
        "    def __len__(self):\n",
        "        return len(self.y)\n",
        "\n",
        "    def __getitem__(self, idx):\n",
        "        x = self.X[idx].astype(np.float32)\n",
        "        y = self.y[idx]\n",
        "\n",
        "        if self.augment:\n",
        "            if random.random() > 0.5:\n",
        "                x = np.flip(x, axis=0).copy()\n",
        "            if random.random() > 0.5:\n",
        "                x = np.flip(x, axis=1).copy()\n",
        "            # Rotate 90/180/270 degrees (only spatial axes H, W)\n",
        "            if random.random() > 0.5:\n",
        "                k = random.choice([1, 2, 3])\n",
        "                x = np.rot90(x, k, axes=(0, 1)).copy()\n",
        "\n",
        "        # Convert to PyTorch Tensor: HxWxB\n",
        "        x = torch.from_numpy(x).float()\n",
        "        y = torch.tensor(y).long()\n",
        "        return x, y\n",
        "\n",
        "# --- DataLoader Setup ---\n",
        "train_dataset = HSIDataset(X_train, y_train, augment=True)\n",
        "test_dataset = HSIDataset(X_test, y_test, augment=False)\n",
        "\n",
        "train_loader = DataLoader(train_dataset, batch_size=BATCH_SIZE, shuffle=True)\n",
        "test_loader = DataLoader(test_dataset, batch_size=BATCH_SIZE, shuffle=False)\n",
        "\n",
        "print(f\"DataLoaders created with BATCH_SIZE={BATCH_SIZE}\")"
      ]
    },
    {
      "cell_type": "code",
      "execution_count": null,
      "id": "5f320ad7-5970-46fa-9a18-96cf0f3f2223",
      "metadata": {
        "id": "5f320ad7-5970-46fa-9a18-96cf0f3f2223"
      },
      "outputs": [],
      "source": [
        "\n",
        "class Branch3DConv(nn.Module):\n",
        "    def __init__(self, in_bands, out_dim=128):\n",
        "        super().__init__()\n",
        "        self.conv = nn.Sequential(\n",
        "            nn.Conv3d(1, 16, kernel_size=3, padding=1),\n",
        "            nn.BatchNorm3d(16),\n",
        "            nn.ReLU(),\n",
        "            nn.Conv3d(16, 32, kernel_size=3, padding=1),\n",
        "            nn.BatchNorm3d(32),\n",
        "            nn.ReLU(),\n",
        "            nn.Conv3d(32, 64, kernel_size=3, padding=1),\n",
        "            nn.BatchNorm3d(64),\n",
        "            nn.ReLU(),\n",
        "            nn.AdaptiveAvgPool3d(1)\n",
        "        )\n",
        "        self.fc = nn.Linear(64, out_dim)\n",
        "\n",
        "    def forward(self, x):\n",
        "        x = x.permute(0, 3, 1, 2).unsqueeze(1)\n",
        "        out = self.conv(x)\n",
        "        out = out.view(out.size(0), -1)\n",
        "        return self.fc(out)\n",
        "\n",
        "# class BranchHaar1D(nn.Module):\n",
        "#     def __init__(self, in_bands, out_dim=128):\n",
        "#         super().__init__()\n",
        "#         sample = np.random.rand(in_bands)\n",
        "#         cA, cD = pywt.dwt(sample, 'haar')\n",
        "#         in_features = len(np.concatenate([cA, cD]))\n",
        "#         self.fc = nn.Linear(in_features, out_dim)\n",
        "\n",
        "#     def forward(self, x):\n",
        "\n",
        "#         x_avg = x.mean(dim=1).mean(dim=1)\n",
        "#         coeffs_list = []\n",
        "#         for i in range(x_avg.shape[0]):\n",
        "#             arr = x_avg[i].detach().cpu().numpy()\n",
        "#             cA, cD = pywt.dwt(arr, 'haar')\n",
        "#             coeffs_list.append(np.concatenate([cA, cD]))\n",
        "#         coeffs = torch.tensor(np.stack(coeffs_list), dtype=torch.float32, device=x.device)\n",
        "#         return self.fc(coeffs)\n",
        "\n",
        "class BranchHaar2D(nn.Module):\n",
        "    def __init__(self, out_dim=128):\n",
        "        super().__init__()\n",
        "\n",
        "        patch_size = PATCH_SIZE\n",
        "        sample = np.random.rand(patch_size, patch_size)\n",
        "        cA, (cH, cV, cD) = pywt.dwt2(sample, 'haar')\n",
        "        in_features = len(np.concatenate([cA.flatten(), cH.flatten(), cV.flatten(), cD.flatten()]))\n",
        "        self.fc = nn.Linear(in_features, out_dim)\n",
        "\n",
        "    def forward(self, x):\n",
        "        x_avg = x.mean(dim=3)\n",
        "        coeffs_list = []\n",
        "        for i in range(x_avg.shape[0]):\n",
        "            arr = x_avg[i].detach().cpu().numpy()\n",
        "            cA, (cH, cV, cD) = pywt.dwt2(arr, 'haar')\n",
        "            coeffs_list.append(np.concatenate([cA.flatten(), cH.flatten(), cV.flatten(), cD.flatten()]))\n",
        "        coeffs = torch.tensor(np.stack(coeffs_list), dtype=torch.float32, device=x.device)\n",
        "        return self.fc(coeffs)\n",
        "\n",
        "class BranchHaar3D(nn.Module):\n",
        "    def __init__(self, in_bands, patch_size, out_dim=128):\n",
        "        super().__init__()\n",
        "\n",
        "        sample = np.random.rand(in_bands, patch_size, patch_size)\n",
        "\n",
        "        coeffs = pywt.wavedecn(sample, 'haar', level=1)\n",
        "\n",
        "        in_features = coeffs[0].size\n",
        "\n",
        "        detail_coeffs_dict = coeffs[1][0] if isinstance(coeffs[1], list) else coeffs[1]\n",
        "        for key in detail_coeffs_dict:\n",
        "            in_features += detail_coeffs_dict[key].size\n",
        "\n",
        "        self.in_features = in_features\n",
        "        self.fc = nn.Linear(self.in_features, out_dim)\n",
        "\n",
        "    def forward(self, x):\n",
        "        x_perm = x.permute(0, 3, 1, 2)\n",
        "        coeffs_list = []\n",
        "        for i in range(x_perm.shape[0]):\n",
        "            arr = x_perm[i].detach().cpu().numpy()\n",
        "\n",
        "            coeffs = pywt.wavedecn(arr, 'haar', level=1)\n",
        "\n",
        "            cA = coeffs[0].flatten()\n",
        "\n",
        "            detail_coeffs_dict = coeffs[1][0] if isinstance(coeffs[1], list) else coeffs[1]\n",
        "            all_coeffs = [cA]\n",
        "            for key in detail_coeffs_dict:\n",
        "                all_coeffs.append(detail_coeffs_dict[key].flatten())\n",
        "\n",
        "            coeffs_list.append(np.concatenate(all_coeffs))\n",
        "\n",
        "        coeffs_np = np.stack(coeffs_list)\n",
        "        coeffs_tensor = torch.tensor(coeffs_np, dtype=torch.float32, device=x.device)\n",
        "\n",
        "        return self.fc(coeffs_tensor)\n",
        "\n",
        "class SEBlock(nn.Module):\n",
        "    def __init__(self, channel, reduction=16):\n",
        "        super().__init__()\n",
        "        self.fc1 = nn.Linear(channel, channel // reduction)\n",
        "        self.fc2 = nn.Linear(channel // reduction, channel)\n",
        "\n",
        "    def forward(self, x):\n",
        "\n",
        "        y = x.mean(dim=0, keepdim=True)\n",
        "        y = F.relu(self.fc1(y))\n",
        "        y = torch.sigmoid(self.fc2(y))\n",
        "        return x * y\n",
        "\n",
        "class MultiBranchModelSE(nn.Module):\n",
        "    def __init__(self, in_bands, num_classes, out_dim=128):\n",
        "        super().__init__()\n",
        "        patch_size = PATCH_SIZE\n",
        "\n",
        "        self.branch1 = Branch3DConv(in_bands, out_dim)\n",
        "        #self.branch2 = BranchHaar1D(in_bands, out_dim)\n",
        "        self.branch3 = BranchHaar2D(out_dim)\n",
        "        self.branch4 = BranchHaar3D(in_bands, patch_size, out_dim)\n",
        "\n",
        "        self.se1 = SEBlock(out_dim)\n",
        "        #self.se2 = SEBlock(out_dim)\n",
        "        self.se3 = SEBlock(out_dim)\n",
        "        self.se4 = SEBlock(out_dim)\n",
        "\n",
        "        self.fc1 = nn.Linear(out_dim*3, 512)\n",
        "        self.dropout = nn.Dropout(0.5)\n",
        "        self.fc2 = nn.Linear(512, num_classes)\n",
        "\n",
        "    def forward(self, x):\n",
        "        b1 = self.se1(self.branch1(x))\n",
        "        #b2 = self.se2(self.branch2(x))\n",
        "        b3 = self.se3(self.branch3(x))\n",
        "        b4 = self.se4(self.branch4(x))\n",
        "\n",
        "        fused = torch.cat([b1, b3, b4], dim=1)\n",
        "        fused = F.relu(self.fc1(fused))\n",
        "        fused = self.dropout(fused)\n",
        "        return self.fc2(fused)"
      ]
    },
    {
      "cell_type": "code",
      "execution_count": 7,
      "id": "328c54d1-97e3-4e93-94bd-ba65de10dc3b",
      "metadata": {
        "colab": {
          "base_uri": "https://localhost:8080/",
          "height": 1000
        },
        "id": "328c54d1-97e3-4e93-94bd-ba65de10dc3b",
        "outputId": "15a5a15a-5444-484e-ec99-ecd945c6383e"
      },
      "outputs": [
        {
          "name": "stdout",
          "output_type": "stream",
          "text": [
            "\n",
            "Model instantiated with 30 bands and 16 classes.\n",
            "\n",
            "--- Starting Training ---\n"
          ]
        },
        {
          "name": "stderr",
          "output_type": "stream",
          "text": [
            "Epoch 1/50 [Train]: 100%|██████████| 28/28 [00:55<00:00,  1.97s/it]\n"
          ]
        },
        {
          "name": "stdout",
          "output_type": "stream",
          "text": [
            "Epoch 1: Train Loss=2.3050, Train Acc=0.3936, Val Acc=0.5531, Val Loss=1.7427\n",
            "Validation accuracy improved (55.31%). Model saved to best_model.pth\n"
          ]
        },
        {
          "name": "stderr",
          "output_type": "stream",
          "text": [
            "Epoch 2/50 [Train]: 100%|██████████| 28/28 [00:55<00:00,  1.99s/it]\n"
          ]
        },
        {
          "name": "stdout",
          "output_type": "stream",
          "text": [
            "Epoch 2: Train Loss=1.0594, Train Acc=0.6500, Val Acc=0.7455, Val Loss=0.7269\n",
            "Validation accuracy improved (74.55%). Model saved to best_model.pth\n"
          ]
        },
        {
          "name": "stderr",
          "output_type": "stream",
          "text": [
            "Epoch 3/50 [Train]: 100%|██████████| 28/28 [00:50<00:00,  1.81s/it]\n"
          ]
        },
        {
          "name": "stdout",
          "output_type": "stream",
          "text": [
            "Epoch 3: Train Loss=0.4800, Train Acc=0.7676, Val Acc=0.8215, Val Loss=0.4105\n",
            "Validation accuracy improved (82.15%). Model saved to best_model.pth\n"
          ]
        },
        {
          "name": "stderr",
          "output_type": "stream",
          "text": [
            "Epoch 4/50 [Train]: 100%|██████████| 28/28 [00:49<00:00,  1.78s/it]\n"
          ]
        },
        {
          "name": "stdout",
          "output_type": "stream",
          "text": [
            "Epoch 4: Train Loss=0.2848, Train Acc=0.8450, Val Acc=0.8968, Val Loss=0.2605\n",
            "Validation accuracy improved (89.68%). Model saved to best_model.pth\n"
          ]
        },
        {
          "name": "stderr",
          "output_type": "stream",
          "text": [
            "Epoch 5/50 [Train]: 100%|██████████| 28/28 [00:50<00:00,  1.80s/it]\n"
          ]
        },
        {
          "name": "stdout",
          "output_type": "stream",
          "text": [
            "Epoch 5: Train Loss=0.1898, Train Acc=0.9029, Val Acc=0.9393, Val Loss=0.1695\n",
            "Validation accuracy improved (93.93%). Model saved to best_model.pth\n"
          ]
        },
        {
          "name": "stderr",
          "output_type": "stream",
          "text": [
            "Epoch 6/50 [Train]: 100%|██████████| 28/28 [00:49<00:00,  1.77s/it]\n"
          ]
        },
        {
          "name": "stdout",
          "output_type": "stream",
          "text": [
            "Epoch 6: Train Loss=0.1314, Train Acc=0.9336, Val Acc=0.9617, Val Loss=0.1282\n",
            "Validation accuracy improved (96.17%). Model saved to best_model.pth\n"
          ]
        },
        {
          "name": "stderr",
          "output_type": "stream",
          "text": [
            "Epoch 7/50 [Train]: 100%|██████████| 28/28 [00:50<00:00,  1.80s/it]\n"
          ]
        },
        {
          "name": "stdout",
          "output_type": "stream",
          "text": [
            "Epoch 7: Train Loss=0.0928, Train Acc=0.9551, Val Acc=0.9708, Val Loss=0.0974\n",
            "Validation accuracy improved (97.08%). Model saved to best_model.pth\n"
          ]
        },
        {
          "name": "stderr",
          "output_type": "stream",
          "text": [
            "Epoch 8/50 [Train]: 100%|██████████| 28/28 [00:51<00:00,  1.82s/it]\n"
          ]
        },
        {
          "name": "stdout",
          "output_type": "stream",
          "text": [
            "Epoch 8: Train Loss=0.0683, Train Acc=0.9708, Val Acc=0.9760, Val Loss=0.0894\n",
            "Validation accuracy improved (97.60%). Model saved to best_model.pth\n"
          ]
        },
        {
          "name": "stderr",
          "output_type": "stream",
          "text": [
            "Epoch 9/50 [Train]: 100%|██████████| 28/28 [00:49<00:00,  1.78s/it]\n"
          ]
        },
        {
          "name": "stdout",
          "output_type": "stream",
          "text": [
            "Epoch 9: Train Loss=0.0525, Train Acc=0.9745, Val Acc=0.9818, Val Loss=0.0677\n",
            "Validation accuracy improved (98.18%). Model saved to best_model.pth\n"
          ]
        },
        {
          "name": "stderr",
          "output_type": "stream",
          "text": [
            "Epoch 10/50 [Train]: 100%|██████████| 28/28 [00:49<00:00,  1.77s/it]\n"
          ]
        },
        {
          "name": "stdout",
          "output_type": "stream",
          "text": [
            "Epoch 10: Train Loss=0.0398, Train Acc=0.9824, Val Acc=0.9825, Val Loss=0.0588\n",
            "Validation accuracy improved (98.25%). Model saved to best_model.pth\n"
          ]
        },
        {
          "name": "stderr",
          "output_type": "stream",
          "text": [
            "Epoch 11/50 [Train]: 100%|██████████| 28/28 [00:50<00:00,  1.81s/it]\n"
          ]
        },
        {
          "name": "stdout",
          "output_type": "stream",
          "text": [
            "Epoch 11: Train Loss=0.0314, Train Acc=0.9876, Val Acc=0.9844, Val Loss=0.0568\n",
            "Validation accuracy improved (98.44%). Model saved to best_model.pth\n"
          ]
        },
        {
          "name": "stderr",
          "output_type": "stream",
          "text": [
            "Epoch 12/50 [Train]: 100%|██████████| 28/28 [00:49<00:00,  1.78s/it]\n"
          ]
        },
        {
          "name": "stdout",
          "output_type": "stream",
          "text": [
            "Epoch 12: Train Loss=0.0237, Train Acc=0.9886, Val Acc=0.9873, Val Loss=0.0438\n",
            "Validation accuracy improved (98.73%). Model saved to best_model.pth\n"
          ]
        },
        {
          "name": "stderr",
          "output_type": "stream",
          "text": [
            "Epoch 13/50 [Train]: 100%|██████████| 28/28 [00:49<00:00,  1.78s/it]\n"
          ]
        },
        {
          "name": "stdout",
          "output_type": "stream",
          "text": [
            "Epoch 13: Train Loss=0.0212, Train Acc=0.9907, Val Acc=0.9909, Val Loss=0.0397\n",
            "Validation accuracy improved (99.09%). Model saved to best_model.pth\n"
          ]
        },
        {
          "name": "stderr",
          "output_type": "stream",
          "text": [
            "Epoch 14/50 [Train]: 100%|██████████| 28/28 [00:50<00:00,  1.80s/it]\n"
          ]
        },
        {
          "name": "stdout",
          "output_type": "stream",
          "text": [
            "Epoch 14: Train Loss=0.0180, Train Acc=0.9927, Val Acc=0.9890, Val Loss=0.0351\n"
          ]
        },
        {
          "name": "stderr",
          "output_type": "stream",
          "text": [
            "Epoch 15/50 [Train]: 100%|██████████| 28/28 [00:49<00:00,  1.78s/it]\n"
          ]
        },
        {
          "name": "stdout",
          "output_type": "stream",
          "text": [
            "Epoch 15: Train Loss=0.0144, Train Acc=0.9947, Val Acc=0.9932, Val Loss=0.0371\n",
            "Validation accuracy improved (99.32%). Model saved to best_model.pth\n",
            "Early stopping counter: 1/5\n"
          ]
        },
        {
          "name": "stderr",
          "output_type": "stream",
          "text": [
            "Epoch 16/50 [Train]: 100%|██████████| 28/28 [00:49<00:00,  1.78s/it]\n"
          ]
        },
        {
          "name": "stdout",
          "output_type": "stream",
          "text": [
            "Epoch 16: Train Loss=0.0125, Train Acc=0.9953, Val Acc=0.9935, Val Loss=0.0318\n",
            "Validation accuracy improved (99.35%). Model saved to best_model.pth\n"
          ]
        },
        {
          "name": "stderr",
          "output_type": "stream",
          "text": [
            "Epoch 17/50 [Train]: 100%|██████████| 28/28 [00:50<00:00,  1.79s/it]\n"
          ]
        },
        {
          "name": "stdout",
          "output_type": "stream",
          "text": [
            "Epoch 17: Train Loss=0.0109, Train Acc=0.9962, Val Acc=0.9945, Val Loss=0.0382\n",
            "Validation accuracy improved (99.45%). Model saved to best_model.pth\n",
            "Early stopping counter: 1/5\n"
          ]
        },
        {
          "name": "stderr",
          "output_type": "stream",
          "text": [
            "Epoch 18/50 [Train]: 100%|██████████| 28/28 [00:49<00:00,  1.78s/it]\n"
          ]
        },
        {
          "name": "stdout",
          "output_type": "stream",
          "text": [
            "Epoch 18: Train Loss=0.0100, Train Acc=0.9969, Val Acc=0.9938, Val Loss=0.0385\n",
            "Early stopping counter: 2/5\n"
          ]
        },
        {
          "name": "stderr",
          "output_type": "stream",
          "text": [
            "Epoch 19/50 [Train]: 100%|██████████| 28/28 [00:50<00:00,  1.79s/it]\n"
          ]
        },
        {
          "name": "stdout",
          "output_type": "stream",
          "text": [
            "Epoch 19: Train Loss=0.0083, Train Acc=0.9975, Val Acc=0.9948, Val Loss=0.0447\n",
            "Validation accuracy improved (99.48%). Model saved to best_model.pth\n",
            "Early stopping counter: 3/5\n"
          ]
        },
        {
          "name": "stderr",
          "output_type": "stream",
          "text": [
            "Epoch 20/50 [Train]: 100%|██████████| 28/28 [00:50<00:00,  1.81s/it]\n"
          ]
        },
        {
          "name": "stdout",
          "output_type": "stream",
          "text": [
            "Epoch 20: Train Loss=0.0084, Train Acc=0.9976, Val Acc=0.9942, Val Loss=0.0304\n"
          ]
        },
        {
          "name": "stderr",
          "output_type": "stream",
          "text": [
            "Epoch 21/50 [Train]: 100%|██████████| 28/28 [00:50<00:00,  1.79s/it]\n"
          ]
        },
        {
          "name": "stdout",
          "output_type": "stream",
          "text": [
            "Epoch 21: Train Loss=0.0080, Train Acc=0.9978, Val Acc=0.9945, Val Loss=0.0258\n"
          ]
        },
        {
          "name": "stderr",
          "output_type": "stream",
          "text": [
            "Epoch 22/50 [Train]: 100%|██████████| 28/28 [00:51<00:00,  1.84s/it]\n"
          ]
        },
        {
          "name": "stdout",
          "output_type": "stream",
          "text": [
            "Epoch 22: Train Loss=0.0066, Train Acc=0.9980, Val Acc=0.9942, Val Loss=0.0247\n"
          ]
        },
        {
          "name": "stderr",
          "output_type": "stream",
          "text": [
            "Epoch 23/50 [Train]: 100%|██████████| 28/28 [00:50<00:00,  1.81s/it]\n"
          ]
        },
        {
          "name": "stdout",
          "output_type": "stream",
          "text": [
            "Epoch 23: Train Loss=0.0047, Train Acc=0.9986, Val Acc=0.9951, Val Loss=0.0223\n",
            "Validation accuracy improved (99.51%). Model saved to best_model.pth\n"
          ]
        },
        {
          "name": "stderr",
          "output_type": "stream",
          "text": [
            "Epoch 24/50 [Train]: 100%|██████████| 28/28 [00:49<00:00,  1.77s/it]\n"
          ]
        },
        {
          "name": "stdout",
          "output_type": "stream",
          "text": [
            "Epoch 24: Train Loss=0.0051, Train Acc=0.9990, Val Acc=0.9955, Val Loss=0.0391\n",
            "Validation accuracy improved (99.55%). Model saved to best_model.pth\n",
            "Early stopping counter: 1/5\n"
          ]
        },
        {
          "name": "stderr",
          "output_type": "stream",
          "text": [
            "Epoch 25/50 [Train]: 100%|██████████| 28/28 [00:50<00:00,  1.79s/it]\n"
          ]
        },
        {
          "name": "stdout",
          "output_type": "stream",
          "text": [
            "Epoch 25: Train Loss=0.0040, Train Acc=0.9994, Val Acc=0.9955, Val Loss=0.0416\n",
            "Early stopping counter: 2/5\n"
          ]
        },
        {
          "name": "stderr",
          "output_type": "stream",
          "text": [
            "Epoch 26/50 [Train]: 100%|██████████| 28/28 [00:50<00:00,  1.82s/it]\n"
          ]
        },
        {
          "name": "stdout",
          "output_type": "stream",
          "text": [
            "Epoch 26: Train Loss=0.0033, Train Acc=0.9994, Val Acc=0.9942, Val Loss=0.0358\n",
            "Early stopping counter: 3/5\n"
          ]
        },
        {
          "name": "stderr",
          "output_type": "stream",
          "text": [
            "Epoch 27/50 [Train]: 100%|██████████| 28/28 [00:49<00:00,  1.78s/it]\n"
          ]
        },
        {
          "name": "stdout",
          "output_type": "stream",
          "text": [
            "Epoch 27: Train Loss=0.0038, Train Acc=0.9992, Val Acc=0.9945, Val Loss=0.0230\n",
            "Early stopping counter: 4/5\n"
          ]
        },
        {
          "name": "stderr",
          "output_type": "stream",
          "text": [
            "Epoch 28/50 [Train]: 100%|██████████| 28/28 [00:49<00:00,  1.78s/it]\n"
          ]
        },
        {
          "name": "stdout",
          "output_type": "stream",
          "text": [
            "Epoch 28: Train Loss=0.0034, Train Acc=0.9990, Val Acc=0.9942, Val Loss=0.0230\n",
            "Early stopping counter: 5/5\n",
            "Early stopping triggered. Stopping training.\n",
            "\n",
            "Training Complete. Best Validation Accuracy: 99.55%\n"
          ]
        },
        {
          "data": {
            "image/png": "[encoded data removed]",
            "text/plain": [
              "<Figure size 1400x500 with 2 Axes>"
            ]
          },
          "metadata": {},
          "output_type": "display_data"
        }
      ],
      "source": [
        "# --- 7. TRAINING EXECUTION ---\n",
        "\n",
        "# --- Instantiate Model ---\n",
        "in_bands = X_train.shape[-1]\n",
        "model = MultiBranchModelSE(in_bands, NUM_CLASSES).to(device)\n",
        "print(f\"\\nModel instantiated with {in_bands} bands and {NUM_CLASSES} classes.\")\n",
        "\n",
        "class_counts = np.bincount(y_train)\n",
        "weights = 1.0 / (class_counts + 1e-6)\n",
        "weights = torch.tensor(weights, dtype=torch.float32).to(device)\n",
        "\n",
        "criterion = nn.CrossEntropyLoss(weight=weights)\n",
        "optimizer = torch.optim.Adam(model.parameters(), lr=2e-4)\n",
        "scheduler = torch.optim.lr_scheduler.ReduceLROnPlateau(\n",
        "    optimizer, mode='min', factor=0.5, patience=3,\n",
        ")\n",
        "\n",
        "# --- Training Loop Parameters ---\n",
        "num_epochs = 50\n",
        "best_acc = 0.0\n",
        "checkpoint_path = \"best_model.pth\"\n",
        "\n",
        "train_losses = []\n",
        "train_accs = []\n",
        "val_accs = []\n",
        "\n",
        "# --- Early Stopping Parameters ---\n",
        "patience = 5  # epochs to wait before stopping\n",
        "best_val_loss = float(\"inf\")\n",
        "early_stop_counter = 0\n",
        "\n",
        "print(\"\\n--- Starting Training ---\")\n",
        "for epoch in range(num_epochs):\n",
        "    # --- Training ---\n",
        "    model.train()\n",
        "    train_loss, correct, total = 0, 0, 0\n",
        "\n",
        "    for X_batch, y_batch in tqdm(train_loader, desc=f\"Epoch {epoch+1}/{num_epochs} [Train]\"):\n",
        "        X_batch, y_batch = X_batch.to(device), y_batch.to(device)\n",
        "\n",
        "        optimizer.zero_grad()\n",
        "        outputs = model(X_batch)\n",
        "        loss = criterion(outputs, y_batch)\n",
        "        loss.backward()\n",
        "        optimizer.step()\n",
        "\n",
        "        train_loss += loss.item()\n",
        "        _, preds = torch.max(outputs, 1)\n",
        "        correct += (preds == y_batch).sum().item()\n",
        "        total += y_batch.size(0)\n",
        "\n",
        "    train_acc = correct / total\n",
        "    train_losses.append(train_loss / len(train_loader))\n",
        "    train_accs.append(train_acc)\n",
        "\n",
        "    # --- Validation ---\n",
        "    model.eval()\n",
        "    correct, total, val_loss = 0, 0, 0\n",
        "    with torch.no_grad():\n",
        "        for X_batch, y_batch in test_loader:\n",
        "            X_batch, y_batch = X_batch.to(device), y_batch.to(device)\n",
        "            outputs = model(X_batch)\n",
        "            loss = criterion(outputs, y_batch)\n",
        "            val_loss += loss.item()\n",
        "            _, preds = torch.max(outputs, 1)\n",
        "            correct += (preds == y_batch).sum().item()\n",
        "            total += y_batch.size(0)\n",
        "    val_acc = correct / total\n",
        "    val_loss /= len(test_loader)\n",
        "    val_accs.append(val_acc)\n",
        "\n",
        "    print(f\"Epoch {epoch+1}: Train Loss={train_losses[-1]:.4f}, \"\n",
        "          f\"Train Acc={train_acc:.4f}, Val Acc={val_acc:.4f}, Val Loss={val_loss:.4f}\")\n",
        "\n",
        "    scheduler.step(val_loss)\n",
        "\n",
        "    # --- Save Best Model ---\n",
        "    if val_acc > best_acc:\n",
        "        best_acc = val_acc\n",
        "        torch.save(model.state_dict(), checkpoint_path)\n",
        "        print(f\"Validation accuracy improved ({best_acc*100:.2f}%). Model saved to {checkpoint_path}\")\n",
        "\n",
        "    # --- Early Stopping ---\n",
        "    if val_loss < best_val_loss:\n",
        "        best_val_loss = val_loss\n",
        "        early_stop_counter = 0\n",
        "    else:\n",
        "        early_stop_counter += 1\n",
        "        print(f\"Early stopping counter: {early_stop_counter}/{patience}\")\n",
        "        if early_stop_counter >= patience:\n",
        "            print(\"Early stopping triggered. Stopping training.\")\n",
        "            break\n",
        "\n",
        "print(f\"\\nTraining Complete. Best Validation Accuracy: {best_acc*100:.2f}%\")\n",
        "\n",
        "# --- Plotting Training History ---\n",
        "epochs_range = range(1, len(train_losses) + 1)\n",
        "plt.figure(figsize=(14, 5))\n",
        "\n",
        "plt.subplot(1, 2, 1)\n",
        "plt.plot(epochs_range, train_losses, label=\"Train Loss\", color=\"red\")\n",
        "plt.xlabel(\"Epochs\")\n",
        "plt.ylabel(\"Loss\")\n",
        "plt.title(\"Training Loss\")\n",
        "plt.grid(True)\n",
        "plt.legend()\n",
        "\n",
        "plt.subplot(1, 2, 2)\n",
        "plt.plot(epochs_range, train_accs, label=\"Train Acc\", color=\"blue\")\n",
        "plt.plot(epochs_range, val_accs, label=\"Val Acc\", color=\"green\")\n",
        "plt.xlabel(\"Epochs\")\n",
        "plt.ylabel(\"Accuracy\")\n",
        "plt.title(\"Train & Validation Accuracy\")\n",
        "plt.grid(True)\n",
        "plt.legend()\n",
        "\n",
        "plt.tight_layout()\n",
        "plt.show()"
      ]
    },
    {
      "cell_type": "code",
      "execution_count": 8,
      "id": "91b02385-9f32-4e51-8e9b-c92a926a5a7e",
      "metadata": {
        "colab": {
          "base_uri": "https://localhost:8080/",
          "height": 1000
        },
        "id": "91b02385-9f32-4e51-8e9b-c92a926a5a7e",
        "outputId": "c572dbe3-7aef-4d4c-a33c-643dc04ba215"
      },
      "outputs": [
        {
          "name": "stdout",
          "output_type": "stream",
          "text": [
            "\n",
            "Loaded model from 'best_model.pth' for evaluation.\n",
            "\n",
            "==================================================\n",
            "CLASSIFICATION REPORT & CONFUSION MATRIX\n",
            "==================================================\n"
          ]
        },
        {
          "name": "stderr",
          "output_type": "stream",
          "text": [
            "Evaluating Test Set: 100%|██████████| 13/13 [00:12<00:00,  1.07it/s]\n"
          ]
        },
        {
          "name": "stdout",
          "output_type": "stream",
          "text": [
            "\n",
            "Overall Test Accuracy: 99.5456%\n",
            "\n",
            "Classification Report (Precision, Recall, F1-Score per class):\n",
            "              precision    recall  f1-score   support\n",
            "\n",
            "           0     0.9333    1.0000    0.9655        14\n",
            "           1     1.0000    0.9907    0.9953       429\n",
            "           2     1.0000    0.9960    0.9980       249\n",
            "           3     0.9863    1.0000    0.9931        72\n",
            "           4     1.0000    0.9862    0.9931       145\n",
            "           5     1.0000    0.9955    0.9977       220\n",
            "           6     1.0000    1.0000    1.0000         9\n",
            "           7     1.0000    1.0000    1.0000       144\n",
            "           8     1.0000    1.0000    1.0000         6\n",
            "           9     0.9965    0.9863    0.9914       292\n",
            "          10     0.9919    1.0000    0.9959       737\n",
            "          11     0.9944    0.9944    0.9944       178\n",
            "          12     1.0000    1.0000    1.0000        62\n",
            "          13     0.9974    1.0000    0.9987       380\n",
            "          14     0.9831    1.0000    0.9915       116\n",
            "          15     0.9643    0.9643    0.9643        28\n",
            "\n",
            "    accuracy                         0.9955      3081\n",
            "   macro avg     0.9904    0.9946    0.9924      3081\n",
            "weighted avg     0.9955    0.9955    0.9955      3081\n",
            "\n"
          ]
        },
        {
          "data": {
            "image/png": "[encoded data removed]",
            "text/plain": [
              "<Figure size 1200x1000 with 2 Axes>"
            ]
          },
          "metadata": {},
          "output_type": "display_data"
        }
      ],
      "source": [
        "# ----------------------------------------------------\n",
        "# 1. EVALUATION AND FULL IMAGE INFERENCE\n",
        "# ----------------------------------------------------\n",
        "import scipy.io as sio\n",
        "from sklearn.metrics import accuracy_score, confusion_matrix, classification_report\n",
        "import joblib\n",
        "import seaborn as sns\n",
        "import os\n",
        "from google.colab import drive # Need to import for mounting\n",
        "import torch # Import explicitly\n",
        "from tqdm import tqdm # Import explicitly\n",
        "import matplotlib.pyplot as plt # Import explicitly\n",
        "\n",
        "\n",
        "num_classes = len(np.unique(y_train))\n",
        "in_bands = X_train.shape[-1]\n",
        "model = MultiBranchModelSE(in_bands, num_classes).to(device)\n",
        "checkpoint_path = \"best_model.pth\"\n",
        "\n",
        "try:\n",
        "    model.load_state_dict(torch.load(checkpoint_path, map_location=device))\n",
        "    model.eval()\n",
        "    print(f\"\\nLoaded model from '{checkpoint_path}' for evaluation.\")\n",
        "\n",
        "except FileNotFoundError:\n",
        "    print(\"\\nFATAL ERROR: 'best_model.pth' not found. Training must be run first.\")\n",
        "    raise\n",
        "\n",
        "# ----------------------------------------------------\n",
        "# 1. Classification Report (Testing Data)\n",
        "# ----------------------------------------------------\n",
        "print(\"\\n\" + \"=\"*50)\n",
        "print(\"CLASSIFICATION REPORT & CONFUSION MATRIX\")\n",
        "print(\"=\"*50)\n",
        "\n",
        "# Run Inference on Test Set\n",
        "all_preds, all_labels = [], []\n",
        "with torch.no_grad():\n",
        "    for X_batch, y_batch in tqdm(test_loader, desc=\"Evaluating Test Set\"):\n",
        "        X_batch, y_batch = X_batch.to(device), y_batch.to(device)\n",
        "        outputs = model(X_batch)\n",
        "        preds = torch.argmax(outputs, dim=1)\n",
        "        all_preds.append(preds.cpu())\n",
        "        all_labels.append(y_batch.cpu())\n",
        "\n",
        "y_pred = torch.cat(all_preds).numpy()\n",
        "y_true = torch.cat(all_labels).numpy()\n",
        "\n",
        "# --- Generate Report and Confusion Matrix ---\n",
        "accuracy = accuracy_score(y_true, y_pred)\n",
        "\n",
        "print(f\"\\nOverall Test Accuracy: {accuracy*100:.4f}%\")\n",
        "\n",
        "# Classification Report\n",
        "print(\"\\nClassification Report (Precision, Recall, F1-Score per class):\")\n",
        "report = classification_report(y_true, y_pred, digits=4, zero_division=0)\n",
        "print(report)\n",
        "\n",
        "# Confusion Matrix Visualization\n",
        "cm = confusion_matrix(y_true, y_pred)\n",
        "plt.figure(figsize=(12, 10))\n",
        "sns.heatmap(cm, annot=True, fmt='d', cmap='Blues',\n",
        "            xticklabels=range(num_classes), yticklabels=range(num_classes))\n",
        "plt.xlabel('Predicted Label')\n",
        "plt.ylabel('True Label')\n",
        "plt.title('Confusion Matrix on Test Data')\n",
        "plt.show()\n"
      ]
    },
    {
      "cell_type": "code",
      "execution_count": 9,
      "id": "a819934e-a444-4bfb-b9f9-7517400eaee0",
      "metadata": {
        "colab": {
          "base_uri": "https://localhost:8080/",
          "height": 1000
        },
        "id": "a819934e-a444-4bfb-b9f9-7517400eaee0",
        "outputId": "b1c41df6-b55d-420f-be76-e710e6c7d701"
      },
      "outputs": [
        {
          "name": "stdout",
          "output_type": "stream",
          "text": [
            "\n",
            "==================================================\n",
            "FULL IMAGE CLASSIFICATION MAP\n",
            "==================================================\n",
            "Generating classification map for image shape 145x145...\n"
          ]
        },
        {
          "name": "stderr",
          "output_type": "stream",
          "text": [
            "Predicting Pixels: 100%|██████████| 21/21 [01:27<00:00,  4.17s/it]\n"
          ]
        },
        {
          "data": {
            "image/png": "[encoded data removed]",
            "text/plain": [
              "<Figure size 1200x600 with 2 Axes>"
            ]
          },
          "metadata": {},
          "output_type": "display_data"
        },
        {
          "data": {
            "image/png": "[encoded data removed]",
            "text/plain": [
              "<Figure size 350x600 with 1 Axes>"
            ]
          },
          "metadata": {},
          "output_type": "display_data"
        }
      ],
      "source": [
        "import matplotlib.patches as mpatches\n",
        "# ----------------------------------------------------\n",
        "# 2. Full Image Inference (Classification Map)\n",
        "# ----------------------------------------------------\n",
        "print(\"\\n\" + \"=\"*50)\n",
        "print(\"FULL IMAGE CLASSIFICATION MAP\")\n",
        "print(\"=\"*50)\n",
        "\n",
        "try:\n",
        "    # --- Load Raw Data from Google Drive ---\n",
        "    data_raw = sio.loadmat(RAW_DATA_PATH)['indian_pines_corrected'].astype(np.float32)\n",
        "    gt_map   = sio.loadmat(GT_PATH)['indian_pines_gt']\n",
        "    H, W, B = data_raw.shape\n",
        "\n",
        "    # Load the PCA/Norm parameters from the unzipped folder (local Colab storage)\n",
        "    pca_file_path = os.path.join(data_folder, \"pca_and_norm.joblib\")\n",
        "    pca_params = joblib.load(pca_file_path)\n",
        "    pca = pca_params['pca']\n",
        "    band_mean = pca_params['mean']\n",
        "    band_std = pca_params['std']\n",
        "\n",
        "    print(f\"Generating classification map for image shape {H}x{W}...\")\n",
        "\n",
        "    # --- Apply Preprocessing to Full Image ---\n",
        "    data_reshaped = data_raw.reshape(-1, B)\n",
        "    data_norm = (data_reshaped - band_mean) / band_std\n",
        "    data_pca_flat = pca.transform(data_norm)\n",
        "    data_pca = data_pca_flat.reshape(H, W, -1).astype(np.float32)\n",
        "\n",
        "    # --- Apply Training Local Normalization ---\n",
        "    data_final = (data_pca - X_train.mean()) / X_train.std()\n",
        "\n",
        "\n",
        "    # --- Extract Patches for Inference ---\n",
        "    PATCH_SIZE = 25\n",
        "    pad = PATCH_SIZE // 2\n",
        "    data_pad = np.pad(data_final, ((pad, pad), (pad, pad), (0, 0)), mode='constant')\n",
        "\n",
        "    all_image_patches = []\n",
        "    indices = []\n",
        "    for i in range(H):\n",
        "        for j in range(W):\n",
        "            patch = data_pad[i:i + PATCH_SIZE, j:j + PATCH_SIZE, :]\n",
        "            all_image_patches.append(patch)\n",
        "            indices.append((i, j))\n",
        "\n",
        "    all_image_patches = np.array(all_image_patches)\n",
        "\n",
        "    # --- Run Inference (in batches) ---\n",
        "    image_loader = DataLoader(all_image_patches, batch_size=1024, shuffle=False)\n",
        "    full_preds = []\n",
        "\n",
        "    with torch.no_grad():\n",
        "        for X_batch in tqdm(image_loader, desc=\"Predicting Pixels\"):\n",
        "            X_batch = X_batch.to(device)\n",
        "            outputs = model(X_batch)\n",
        "            preds = torch.argmax(outputs, dim=1)\n",
        "            full_preds.append(preds.cpu())\n",
        "\n",
        "    full_preds = torch.cat(full_preds).numpy()\n",
        "\n",
        "    # --- Reconstruct Classification Map ---\n",
        "    classification_map = np.zeros((H, W), dtype=np.uint8)\n",
        "\n",
        "    for idx, (i, j) in enumerate(indices):\n",
        "        classification_map[i, j] = full_preds[idx] + 1 # 0-indexed to 1-16 labels\n",
        "\n",
        "    # Mask out background where GT is 0\n",
        "    classification_map[gt_map == 0] = 0\n",
        "\n",
        "    # --- Visualization ---\n",
        "    from matplotlib.colors import ListedColormap\n",
        "    # Standard Indian Pines colors\n",
        "    colors = [\n",
        "        '#000000', '#0000FF', '#FF0000', '#00FF00', '#00FFFF', '#FFFF00',\n",
        "        '#FF00FF', '#800000', '#808000', '#008000', '#800080', '#008080',\n",
        "        '#000080', '#FF4500', '#FFA500', '#DA70D6', '#32CD32'\n",
        "    ]\n",
        "    class_names=[\n",
        "    \"Background\",               # Index 0\n",
        "    \"Alfalfa\",                  # Index 1\n",
        "    \"Corn-notill\",              # Index 2\n",
        "    \"Corn-mintill\",             # Index 3\n",
        "    \"Corn\",                     # Index 4\n",
        "    \"Grass-pasture\",            # Index 5\n",
        "    \"Grass-trees\",              # Index 6\n",
        "    \"Grass-pasture-mowed\",      # Index 7\n",
        "    \"Hay-windrowed\",            # Index 8\n",
        "    \"Oats\",                     # Index 9\n",
        "    \"Soybean-notill\",           # Index 10\n",
        "    \"Soybean-mintill\",          # Index 11\n",
        "    \"Soybean-clean\",            # Index 12\n",
        "    \"Wheat\",                    # Index 13\n",
        "    \"Woods\",                    # Index 14\n",
        "    \"Buildings-Grass-Trees-Drives\", # Index 15\n",
        "    \"Stone-Steel-Towers\"        # Index 16\n",
        "]\n",
        "    cmap = ListedColormap(colors[:num_classes+1])\n",
        "\n",
        "    plt.figure(figsize=(12, 6))\n",
        "\n",
        "    plt.subplot(1, 2, 1)\n",
        "    plt.imshow(gt_map, cmap=cmap, vmin=0, vmax=num_classes)\n",
        "    plt.title('Ground Truth Map')\n",
        "    plt.axis('off')\n",
        "\n",
        "    plt.subplot(1, 2, 2)\n",
        "    plt.imshow(classification_map, cmap=cmap, vmin=0, vmax=num_classes)\n",
        "    plt.title('Predicted Classification Map')\n",
        "    plt.axis('off')\n",
        "\n",
        "    plt.tight_layout()\n",
        "    plt.show()\n",
        "    legend_patches = []\n",
        "    for i in range(1, num_classes + 1):\n",
        "        color = colors[i]\n",
        "        name = class_names[i]\n",
        "        # Create a colored patch for the legend\n",
        "        patch = mpatches.Patch(color=color, label=name)\n",
        "        legend_patches.append(patch)\n",
        "\n",
        "    # Create the legend plot\n",
        "    plt.figure(figsize=(3.5, 6))\n",
        "    plt.legend(handles=legend_patches,\n",
        "              loc='center',\n",
        "              ncol=1,\n",
        "              frameon=False,\n",
        "              title=\" Classes\")\n",
        "    plt.gca().set_axis_off() # Hide the axes\n",
        "    plt.tight_layout()\n",
        "    plt.show()\n",
        "\n",
        "\n",
        "except FileNotFoundError as e:\n",
        "    print(f\"\\nSkipping Classification Map. A file was not found: {e}.\")\n",
        "    print(\"Ensure you confirmed the raw data file paths inside the script are correct.\")"
      ]
    },
    {
      "cell_type": "code",
      "execution_count": 10,
      "id": "D8F-xrR7flYD",
      "metadata": {
        "colab": {
          "base_uri": "https://localhost:8080/"
        },
        "id": "D8F-xrR7flYD",
        "outputId": "9b9e339b-bf18-46e3-b9dc-d8529769913e"
      },
      "outputs": [
        {
          "name": "stdout",
          "output_type": "stream",
          "text": [
            "\n",
            "Created results directory: Results\n",
            "Saved combined GT and Prediction map to: Results/IndianPines_Classification_Maps.png\n",
            "Saved raw predicted map data to: Results/predicted_map_raw.npy\n",
            "Saved legend image to: Results/IndianPines_Legend.png\n"
          ]
        }
      ],
      "source": [
        "# Assuming the classification cell just ran successfully.\n",
        "\n",
        "# --- Define Results Directory ---\n",
        "RESULTS_DIR = \"Results\"\n",
        "os.makedirs(RESULTS_DIR, exist_ok=True)\n",
        "print(f\"\\nCreated results directory: {RESULTS_DIR}\")\n",
        "\n",
        "# --- 1. Save Combined Map Image (GT and Prediction) ---\n",
        "\n",
        "# Re-creating the figure using the variables already in memory\n",
        "plt.figure(figsize=(10, 5))\n",
        "\n",
        "plt.subplot(1, 2, 1)\n",
        "# gt_map and cmap should be available from the previous cell\n",
        "plt.imshow(gt_map, cmap=cmap, vmin=0, vmax=NUM_CLASSES)\n",
        "plt.title('Ground Truth Map')\n",
        "plt.axis('off')\n",
        "\n",
        "plt.subplot(1, 2, 2)\n",
        "# classification_map and cmap should be available from the previous cell\n",
        "plt.imshow(classification_map, cmap=cmap, vmin=0, vmax=NUM_CLASSES)\n",
        "plt.title('Predicted Classification Map')\n",
        "plt.axis('off')\n",
        "\n",
        "plt.tight_layout()\n",
        "SAVE_PATH_MAP = os.path.join(RESULTS_DIR, 'IndianPines_Classification_Maps.png')\n",
        "plt.savefig(SAVE_PATH_MAP, bbox_inches='tight', dpi=300)\n",
        "plt.close()\n",
        "print(f\"Saved combined GT and Prediction map to: {SAVE_PATH_MAP}\")\n",
        "\n",
        "\n",
        "# --- 2. Save Classification Map (as raw data) ---\n",
        "\n",
        "# Saving the raw numpy array of predictions for later use\n",
        "np.save(os.path.join(RESULTS_DIR, 'predicted_map_raw.npy'), classification_map)\n",
        "print(f\"Saved raw predicted map data to: {os.path.join(RESULTS_DIR, 'predicted_map_raw.npy')}\")\n",
        "\n",
        "\n",
        "# --- 3. Save Legend Image ---\n",
        "\n",
        "# Re-generating the legend_patches list using existing variables\n",
        "legend_patches = []\n",
        "for i in range(1, NUM_CLASSES + 1):\n",
        "    # colors and class_names should be available from the previous cell\n",
        "    color = colors[i]\n",
        "    name = class_names[i]\n",
        "    patch = mpatches.Patch(color=color, label=name)\n",
        "    legend_patches.append(patch)\n",
        "\n",
        "plt.figure(figsize=(3.5, 6))\n",
        "plt.legend(handles=legend_patches,\n",
        "           loc='center',\n",
        "           ncol=1,\n",
        "           frameon=False,\n",
        "           title=\" Classes\")\n",
        "plt.gca().set_axis_off()\n",
        "plt.tight_layout()\n",
        "\n",
        "SAVE_PATH_LEGEND = os.path.join(RESULTS_DIR, 'IndianPines_Legend.png')\n",
        "plt.savefig(SAVE_PATH_LEGEND, bbox_inches='tight', dpi=300)\n",
        "plt.close()\n",
        "print(f\"Saved legend image to: {SAVE_PATH_LEGEND}\")"
      ]
    },
    {
      "cell_type": "code",
      "execution_count": 11,
      "id": "4nO5SMSmgYFS",
      "metadata": {
        "colab": {
          "base_uri": "https://localhost:8080/"
        },
        "id": "4nO5SMSmgYFS",
        "outputId": "602ad469-709c-4133-c4e5-a3eef0292cf0"
      },
      "outputs": [
        {
          "name": "stdout",
          "output_type": "stream",
          "text": [
            " Saved Quantitative Report to: Results/IndianPines_Testing_Report.txt\n",
            " Saved Confusion Matrix plot to: Results/IndianPines_Confusion_Matrix_Test.png\n"
          ]
        }
      ],
      "source": [
        "import numpy as np\n",
        "import os\n",
        "import matplotlib.pyplot as plt\n",
        "import seaborn as sns\n",
        "\n",
        "\n",
        "from sklearn.metrics import cohen_kappa_score\n",
        "kappa = cohen_kappa_score(y_true, y_pred)\n",
        "\n",
        "SAVE_PATH_REPORT = os.path.join(RESULTS_DIR, 'IndianPines_Testing_Report.txt')\n",
        "\n",
        "with open(SAVE_PATH_REPORT, 'w') as f:\n",
        "    f.write(\"--- Quantitative Classification Results on Test Set ---\\n\")\n",
        "    f.write(f\"Overall Test Accuracy (OA): {accuracy * 100:.4f}%\\n\")\n",
        "    f.write(f\"Kappa Coefficient (Kappa): {kappa:.4f}\\n\")\n",
        "    f.write(\"\\n\" + \"=\"*50 + \"\\n\")\n",
        "    f.write(\"Detailed Classification Report (Per-Class Metrics):\\n\")\n",
        "    f.write(report) # The 'report' variable is the string output from classification_report()\n",
        "\n",
        "print(f\" Saved Quantitative Report to: {SAVE_PATH_REPORT}\")\n",
        "\n",
        "# --- 2. Save Confusion Matrix Plot ---\n",
        "\n",
        "# Adjust labels to exclude 'Background' if your model was trained on 0-15 labels\n",
        "# Your evaluation code used range(num_classes) which is 0-15.\n",
        "plot_labels = class_names[1 : num_classes + 1] # Use the actual class names\n",
        "\n",
        "plt.figure(figsize=(12, 10))\n",
        "sns.heatmap(\n",
        "    cm,\n",
        "    annot=True,\n",
        "    fmt='d',\n",
        "    cmap='Blues',\n",
        "    xticklabels=plot_labels,\n",
        "    yticklabels=plot_labels\n",
        ")\n",
        "\n",
        "plt.xlabel('Predicted Label')\n",
        "plt.ylabel('True Label')\n",
        "plt.title('Confusion Matrix on Test Data')\n",
        "plt.yticks(rotation=0)\n",
        "plt.xticks(rotation=45, ha='right')\n",
        "\n",
        "SAVE_PATH_CM = os.path.join(RESULTS_DIR, 'IndianPines_Confusion_Matrix_Test.png')\n",
        "plt.savefig(SAVE_PATH_CM, bbox_inches='tight', dpi=300)\n",
        "plt.close()\n",
        "\n",
        "print(f\" Saved Confusion Matrix plot to: {SAVE_PATH_CM}\")"
      ]
    },
    {
      "cell_type": "code",
      "execution_count": 12,
      "id": "vwDrgrO5hGHU",
      "metadata": {
        "colab": {
          "base_uri": "https://localhost:8080/"
        },
        "id": "vwDrgrO5hGHU",
        "outputId": "f8c01c62-b45c-4de1-bb5b-f2dfc1b904ca"
      },
      "outputs": [
        {
          "name": "stdout",
          "output_type": "stream",
          "text": [
            "\n",
            " Successfully saved the final model state to: Results/final_model_state.pth\n"
          ]
        }
      ],
      "source": [
        "import torch\n",
        "import os\n",
        "\n",
        "MODEL_SAVE_PATH = os.path.join(RESULTS_DIR, 'final_model_state.pth')\n",
        "\n",
        "torch.save(model.state_dict(), MODEL_SAVE_PATH)\n",
        "\n",
        "print(f\"\\n Successfully saved the final model state to: {MODEL_SAVE_PATH}\")"
      ]
    },
    {
      "cell_type": "code",
      "execution_count": 13,
      "id": "U5LtsTZDk-NG",
      "metadata": {
        "colab": {
          "base_uri": "https://localhost:8080/"
        },
        "id": "U5LtsTZDk-NG",
        "outputId": "0328e23e-1231-4447-851a-233bde8b63db"
      },
      "outputs": [
        {
          "name": "stdout",
          "output_type": "stream",
          "text": [
            "\n",
            " Successfully saved the full model object to: Results/full_model.pth\n"
          ]
        }
      ],
      "source": [
        "import torch\n",
        "import os\n",
        "\n",
        "FULL_MODEL_SAVE_PATH = os.path.join(RESULTS_DIR, 'full_model.pth')\n",
        "\n",
        "torch.save(model, FULL_MODEL_SAVE_PATH)\n",
        "\n",
        "print(f\"\\n Successfully saved the full model object to: {FULL_MODEL_SAVE_PATH}\")"
      ]
    },
    {
      "cell_type": "code",
      "execution_count": 13,
      "id": "RB_EANZUlRhh",
      "metadata": {
        "id": "RB_EANZUlRhh"
      },
      "outputs": [],
      "source": []
    }
  ],
  "metadata": {
    "accelerator": "GPU",
    "colab": {
      "gpuType": "T4",
      "provenance": []
    },
    "kernelspec": {
      "display_name": "Python 3",
      "name": "python3"
    },
    "language_info": {
      "codemirror_mode": {
        "name": "ipython",
        "version": 3
      },
      "file_extension": ".py",
      "mimetype": "text/x-python",
      "name": "python",
      "nbconvert_exporter": "python",
      "pygments_lexer": "ipython3",
      "version": "3.11.5"
    }
  },
  "nbformat": 4,
  "nbformat_minor": 5
}
