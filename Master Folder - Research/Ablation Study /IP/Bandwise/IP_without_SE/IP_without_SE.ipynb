{
  "cells": [
    {
      "cell_type": "code",
      "execution_count": 1,
      "id": "777b888e-ca71-4649-bdff-95aaa32fea75",
      "metadata": {
        "colab": {
          "base_uri": "https://localhost:8080/"
        },
        "id": "777b888e-ca71-4649-bdff-95aaa32fea75",
        "outputId": "18776479-9f7c-41c5-cb49-81bef73bae43"
      },
      "outputs": [
        {
          "output_type": "stream",
          "name": "stdout",
          "text": [
            "Using device: cuda\n",
            "Mounted at /content/drive\n"
          ]
        }
      ],
      "source": [
        "import numpy as np\n",
        "import torch\n",
        "import torch.nn as nn\n",
        "import torch.nn.functional as F\n",
        "from torch.utils.data import Dataset, DataLoader\n",
        "from sklearn.metrics import accuracy_score, confusion_matrix, classification_report\n",
        "from sklearn.decomposition import PCA\n",
        "from sklearn.model_selection import train_test_split\n",
        "import scipy.io as sio\n",
        "import joblib\n",
        "import matplotlib.pyplot as plt\n",
        "import seaborn as sns\n",
        "from tqdm import tqdm\n",
        "\n",
        "import pywt\n",
        "import random\n",
        "import os\n",
        "from google.colab import drive\n",
        "\n",
        "device = 'cuda' if torch.cuda.is_available() else 'cpu'\n",
        "print(\"Using device:\", device)\n",
        "\n",
        "SEED = 42\n",
        "random.seed(SEED)\n",
        "np.random.seed(SEED)\n",
        "torch.manual_seed(SEED)\n",
        "if torch.cuda.is_available():\n",
        "    torch.cuda.manual_seed_all(SEED)\n",
        "\n",
        "drive.mount('/content/drive', force_remount=True)"
      ]
    },
    {
      "cell_type": "code",
      "execution_count": 2,
      "id": "542a2a37-16f5-465b-bd27-9031618e2b7b",
      "metadata": {
        "id": "542a2a37-16f5-465b-bd27-9031618e2b7b"
      },
      "outputs": [],
      "source": [
        "\n",
        "RAW_DATA_PATH = \"/content/drive/MyDrive/Indian_pines_corrected.mat\"\n",
        "GT_PATH = \"/content/drive/MyDrive/Indian_pines_gt.mat\"\n",
        "\n",
        "PATCH_SIZE = 25\n",
        "N_COMPONENTS = 30\n",
        "TRAIN_RATIO = 0.70\n",
        "NUM_CLASSES = 16\n",
        "BATCH_SIZE = 256\n",
        "\n",
        "OUTPUT_DIR = \"preprocessed_indianpines\"\n",
        "os.makedirs(OUTPUT_DIR, exist_ok=True)"
      ]
    },
    {
      "cell_type": "code",
      "execution_count": 3,
      "id": "4cbcf812-1251-492a-8868-15e39c6fcb3d",
      "metadata": {
        "colab": {
          "base_uri": "https://localhost:8080/"
        },
        "id": "4cbcf812-1251-492a-8868-15e39c6fcb3d",
        "outputId": "c3d826bc-68f2-4632-ee88-a5c1448e037f"
      },
      "outputs": [
        {
          "output_type": "stream",
          "name": "stdout",
          "text": [
            "Loading data from /content/drive/MyDrive/Indian_pines_corrected.mat and /content/drive/MyDrive/Indian_pines_gt.mat...\n",
            "Original data shape: (145, 145, 200), GT shape: (145, 145)\n",
            "Data reduced to 30 components. Shape: (145, 145, 30)\n"
          ]
        }
      ],
      "source": [
        "\n",
        "\n",
        "print(f\"Loading data from {RAW_DATA_PATH} and {GT_PATH}...\")\n",
        "try:\n",
        "\n",
        "    data_mat = sio.loadmat(RAW_DATA_PATH)\n",
        "    gt_mat = sio.loadmat(GT_PATH)\n",
        "    data = data_mat['indian_pines_corrected'].astype(np.float32)\n",
        "    gt = gt_mat['indian_pines_gt']\n",
        "except FileNotFoundError as e:\n",
        "    print(f\"Error loading raw data: {e}. Check RAW_DATA_PATH and GT_PATH.\")\n",
        "    raise\n",
        "\n",
        "H, W, B = data.shape\n",
        "print(f\"Original data shape: {data.shape}, GT shape: {gt.shape}\")\n",
        "\n",
        "data_reshaped = data.reshape(-1, B)\n",
        "band_mean = data_reshaped.mean(axis=0)\n",
        "band_std = data_reshaped.std(axis=0) + 1e-12\n",
        "data_norm = (data_reshaped - band_mean) / band_std\n",
        "\n",
        "pca = PCA(n_components=N_COMPONENTS, whiten=True, random_state=SEED)\n",
        "data_pca_flat = pca.fit_transform(data_norm)\n",
        "data_pca = data_pca_flat.reshape(H, W, N_COMPONENTS)\n",
        "\n",
        "joblib.dump(\n",
        "    {'pca': pca, 'mean': band_mean, 'std': band_std},\n",
        "    os.path.join(OUTPUT_DIR, 'pca_and_norm.joblib')\n",
        ")\n",
        "print(f\"Data reduced to {N_COMPONENTS} components. Shape: {data_pca.shape}\")\n",
        "\n",
        "data_folder = OUTPUT_DIR"
      ]
    },
    {
      "cell_type": "code",
      "execution_count": 4,
      "id": "18482de6-b36f-4376-a25c-e1d94f32d0ac",
      "metadata": {
        "colab": {
          "base_uri": "https://localhost:8080/"
        },
        "id": "18482de6-b36f-4376-a25c-e1d94f32d0ac",
        "outputId": "e7e6bb7b-d082-4b42-ed73-b031201fa3f0"
      },
      "outputs": [
        {
          "output_type": "stream",
          "name": "stdout",
          "text": [
            "Total extracted patches: (10249, 25, 25, 30), total samples: 10249\n",
            "--- Final Data Shapes ---\n",
            "X_train shape: (7168, 25, 25, 30), y_train shape: (7168,)\n",
            "X_test shape: (3081, 25, 25, 30), y_test shape: (3081,)\n"
          ]
        }
      ],
      "source": [
        "\n",
        "pad = PATCH_SIZE // 2\n",
        "H0, W0, _ = data_pca.shape\n",
        "\n",
        "data_pad = np.pad(data_pca, ((pad, pad), (pad, pad), (0, 0)), mode='constant')\n",
        "gt_pad = np.pad(gt, ((pad, pad), (pad, pad)), mode='constant')\n",
        "\n",
        "patches = []\n",
        "labels = []\n",
        "\n",
        "for i in range(pad, pad + H0):\n",
        "    for j in range(pad, pad + W0):\n",
        "        lab = gt_pad[i, j]\n",
        "        if lab == 0:\n",
        "            continue\n",
        "        patch = data_pad[i-pad:i+pad+1, j-pad:j+pad+1, :]\n",
        "        patches.append(patch.astype(np.float32))\n",
        "        labels.append(int(lab) - 1)\n",
        "\n",
        "patches = np.array(patches)\n",
        "labels = np.array(labels)\n",
        "unique_labels = np.unique(labels)\n",
        "print(f\"Total extracted patches: {patches.shape}, total samples: {len(labels)}\")\n",
        "\n",
        "train_idx_list = []\n",
        "test_idx_list = []\n",
        "\n",
        "for c in unique_labels:\n",
        "    idx_c = np.where(labels == c)[0]\n",
        "    n_train = max(1, int(TRAIN_RATIO * len(idx_c)))\n",
        "    tr_idx, te_idx = train_test_split(\n",
        "        idx_c, train_size=n_train, random_state=SEED, shuffle=True\n",
        "    )\n",
        "    train_idx_list.append(tr_idx)\n",
        "    test_idx_list.append(te_idx)\n",
        "\n",
        "train_idx = np.concatenate(train_idx_list)\n",
        "test_idx = np.concatenate(test_idx_list)\n",
        "\n",
        "X_train = patches[train_idx]\n",
        "y_train = labels[train_idx]\n",
        "X_test = patches[test_idx]\n",
        "y_test = labels[test_idx]\n",
        "\n",
        "perm = np.random.RandomState(SEED).permutation(len(X_train))\n",
        "X_train = X_train[perm]\n",
        "y_train = y_train[perm]\n",
        "\n",
        "print(\"--- Final Data Shapes ---\")\n",
        "print(f\"X_train shape: {X_train.shape}, y_train shape: {y_train.shape}\")\n",
        "print(f\"X_test shape: {X_test.shape}, y_test shape: {y_test.shape}\")"
      ]
    },
    {
      "cell_type": "code",
      "execution_count": 5,
      "id": "35e8cbfb-a670-4954-bd1f-4d375146db2f",
      "metadata": {
        "colab": {
          "base_uri": "https://localhost:8080/"
        },
        "id": "35e8cbfb-a670-4954-bd1f-4d375146db2f",
        "outputId": "c273f8e5-a124-4ea3-8678-ddca48a2adaa"
      },
      "outputs": [
        {
          "output_type": "stream",
          "name": "stdout",
          "text": [
            "DataLoaders created with BATCH_SIZE=256\n"
          ]
        }
      ],
      "source": [
        "\n",
        "mean, std = X_train.mean(), X_train.std()\n",
        "X_train = (X_train - mean) / std\n",
        "X_test = (X_test - mean) / std\n",
        "\n",
        "class HSIDataset(Dataset):\n",
        "    def __init__(self, X, y, augment=False):\n",
        "        self.X = X\n",
        "        self.y = y\n",
        "        self.augment = augment\n",
        "\n",
        "    def __len__(self):\n",
        "        return len(self.y)\n",
        "\n",
        "    def __getitem__(self, idx):\n",
        "        x = self.X[idx].astype(np.float32)\n",
        "        y = self.y[idx]\n",
        "\n",
        "        if self.augment:\n",
        "            if random.random() > 0.5:\n",
        "                x = np.flip(x, axis=0).copy()\n",
        "            if random.random() > 0.5:\n",
        "                x = np.flip(x, axis=1).copy()\n",
        "            # Rotate 90/180/270 degrees (only spatial axes H, W)\n",
        "            if random.random() > 0.5:\n",
        "                k = random.choice([1, 2, 3])\n",
        "                x = np.rot90(x, k, axes=(0, 1)).copy()\n",
        "\n",
        "        # Convert to PyTorch Tensor: HxWxB\n",
        "        x = torch.from_numpy(x).float()\n",
        "        y = torch.tensor(y).long()\n",
        "        return x, y\n",
        "\n",
        "# --- DataLoader Setup ---\n",
        "train_dataset = HSIDataset(X_train, y_train, augment=True)\n",
        "test_dataset = HSIDataset(X_test, y_test, augment=False)\n",
        "\n",
        "train_loader = DataLoader(train_dataset, batch_size=BATCH_SIZE, shuffle=True)\n",
        "test_loader = DataLoader(test_dataset, batch_size=BATCH_SIZE, shuffle=False)\n",
        "\n",
        "print(f\"DataLoaders created with BATCH_SIZE={BATCH_SIZE}\")"
      ]
    },
    {
      "cell_type": "code",
      "execution_count": 8,
      "id": "5f320ad7-5970-46fa-9a18-96cf0f3f2223",
      "metadata": {
        "id": "5f320ad7-5970-46fa-9a18-96cf0f3f2223"
      },
      "outputs": [],
      "source": [
        "\n",
        "class Branch3DConv(nn.Module):\n",
        "    def __init__(self, in_bands, out_dim=128):\n",
        "        super().__init__()\n",
        "        self.conv = nn.Sequential(\n",
        "            nn.Conv3d(1, 16, kernel_size=3, padding=1),\n",
        "            nn.BatchNorm3d(16),\n",
        "            nn.ReLU(),\n",
        "            nn.Conv3d(16, 32, kernel_size=3, padding=1),\n",
        "            nn.BatchNorm3d(32),\n",
        "            nn.ReLU(),\n",
        "            nn.Conv3d(32, 64, kernel_size=3, padding=1),\n",
        "            nn.BatchNorm3d(64),\n",
        "            nn.ReLU(),\n",
        "            nn.AdaptiveAvgPool3d(1)\n",
        "        )\n",
        "        self.fc = nn.Linear(64, out_dim)\n",
        "\n",
        "    def forward(self, x):\n",
        "        x = x.permute(0, 3, 1, 2).unsqueeze(1)\n",
        "        out = self.conv(x)\n",
        "        out = out.view(out.size(0), -1)\n",
        "        return self.fc(out)\n",
        "\n",
        "class BranchHaar1D(nn.Module):\n",
        "    def __init__(self, in_bands, out_dim=128):\n",
        "        super().__init__()\n",
        "        sample = np.random.rand(in_bands)\n",
        "        cA, cD = pywt.dwt(sample, 'haar')\n",
        "        in_features = len(np.concatenate([cA, cD]))\n",
        "        self.fc = nn.Linear(in_features, out_dim)\n",
        "\n",
        "    def forward(self, x):\n",
        "\n",
        "        x_avg = x.mean(dim=1).mean(dim=1)\n",
        "        coeffs_list = []\n",
        "        for i in range(x_avg.shape[0]):\n",
        "            arr = x_avg[i].detach().cpu().numpy()\n",
        "            cA, cD = pywt.dwt(arr, 'haar')\n",
        "            coeffs_list.append(np.concatenate([cA, cD]))\n",
        "        coeffs = torch.tensor(np.stack(coeffs_list), dtype=torch.float32, device=x.device)\n",
        "        return self.fc(coeffs)\n",
        "\n",
        "class BranchHaar2D(nn.Module):\n",
        "    def __init__(self, out_dim=128):\n",
        "        super().__init__()\n",
        "\n",
        "        patch_size = PATCH_SIZE\n",
        "        sample = np.random.rand(patch_size, patch_size)\n",
        "        cA, (cH, cV, cD) = pywt.dwt2(sample, 'haar')\n",
        "        in_features = len(np.concatenate([cA.flatten(), cH.flatten(), cV.flatten(), cD.flatten()]))\n",
        "        self.fc = nn.Linear(in_features, out_dim)\n",
        "\n",
        "    def forward(self, x):\n",
        "        x_avg = x.mean(dim=3)\n",
        "        coeffs_list = []\n",
        "        for i in range(x_avg.shape[0]):\n",
        "            arr = x_avg[i].detach().cpu().numpy()\n",
        "            cA, (cH, cV, cD) = pywt.dwt2(arr, 'haar')\n",
        "            coeffs_list.append(np.concatenate([cA.flatten(), cH.flatten(), cV.flatten(), cD.flatten()]))\n",
        "        coeffs = torch.tensor(np.stack(coeffs_list), dtype=torch.float32, device=x.device)\n",
        "        return self.fc(coeffs)\n",
        "\n",
        "class BranchHaar3D(nn.Module):\n",
        "    def __init__(self, in_bands, patch_size, out_dim=128):\n",
        "        super().__init__()\n",
        "\n",
        "\n",
        "        spatial_pixels = patch_size * patch_size\n",
        "        sample = np.random.rand(spatial_pixels)\n",
        "        cA, cD = pywt.dwt(sample, 'haar')\n",
        "        features_per_band = len(np.concatenate([cA, cD]))\n",
        "\n",
        "\n",
        "        in_features = in_bands * features_per_band\n",
        "        self.fc = nn.Linear(in_features, out_dim)\n",
        "\n",
        "    def forward(self, x):\n",
        "\n",
        "        x_perm = x.permute(0, 3, 1, 2)\n",
        "        coeffs_list = []\n",
        "        for i in range(x_perm.shape[0]):\n",
        "            temp_list = []\n",
        "            for b in range(x_perm.shape[1]):\n",
        "\n",
        "                arr = x_perm[i, b].flatten().detach().cpu().numpy()\n",
        "                cA, cD = pywt.dwt(arr, 'haar')\n",
        "                temp_list.append(np.concatenate([cA.flatten(), cD.flatten()]))\n",
        "            coeffs_list.append(np.concatenate(temp_list))\n",
        "\n",
        "        coeffs = torch.tensor(np.stack(coeffs_list), dtype=torch.float32, device=x.device)\n",
        "        return self.fc(coeffs)\n",
        "\n",
        "# class SEBlock(nn.Module):\n",
        "#     def __init__(self, channel, reduction=16):\n",
        "#         super().__init__()\n",
        "#         self.fc1 = nn.Linear(channel, channel // reduction)\n",
        "#         self.fc2 = nn.Linear(channel // reduction, channel)\n",
        "\n",
        "#     def forward(self, x):\n",
        "\n",
        "#         y = x.mean(dim=0, keepdim=True)\n",
        "#         y = F.relu(self.fc1(y))\n",
        "#         y = torch.sigmoid(self.fc2(y))\n",
        "#         return x * y\n",
        "\n",
        "class MultiBranchModelSE(nn.Module):\n",
        "    def __init__(self, in_bands, num_classes, out_dim=128):\n",
        "        super().__init__()\n",
        "        patch_size = PATCH_SIZE\n",
        "\n",
        "        self.branch1 = Branch3DConv(in_bands, out_dim)\n",
        "        self.branch2 = BranchHaar1D(in_bands, out_dim)\n",
        "        self.branch3 = BranchHaar2D(out_dim)\n",
        "        self.branch4 = BranchHaar3D(in_bands, patch_size, out_dim)\n",
        "\n",
        "        # self.se1 = SEBlock(out_dim)\n",
        "        # self.se2 = SEBlock(out_dim)\n",
        "        # self.se3 = SEBlock(out_dim)\n",
        "        # self.se4 = SEBlock(out_dim)\n",
        "\n",
        "        self.fc1 = nn.Linear(out_dim*4, 512)\n",
        "        self.dropout = nn.Dropout(0.5)\n",
        "        self.fc2 = nn.Linear(512, num_classes)\n",
        "\n",
        "    def forward(self, x):\n",
        "        b1 = self.branch1(x)\n",
        "        b2 = self.branch2(x)\n",
        "        b3 = self.branch3(x)\n",
        "        b4 = self.branch4(x)\n",
        "\n",
        "\n",
        "        fused = torch.cat([b1, b2,b3, b4], dim=1)\n",
        "        fused = F.relu(self.fc1(fused))\n",
        "        fused = self.dropout(fused)\n",
        "        return self.fc2(fused)"
      ]
    },
    {
      "cell_type": "code",
      "execution_count": 9,
      "id": "328c54d1-97e3-4e93-94bd-ba65de10dc3b",
      "metadata": {
        "colab": {
          "base_uri": "https://localhost:8080/",
          "height": 1000
        },
        "id": "328c54d1-97e3-4e93-94bd-ba65de10dc3b",
        "outputId": "507058e5-5499-48ff-fcfa-8062bcbfad05"
      },
      "outputs": [
        {
          "output_type": "stream",
          "name": "stdout",
          "text": [
            "\n",
            "Model instantiated with 30 bands and 16 classes.\n",
            "\n",
            "--- Starting Training ---\n"
          ]
        },
        {
          "output_type": "stream",
          "name": "stderr",
          "text": [
            "Epoch 1/50 [Train]: 100%|██████████| 28/28 [00:56<00:00,  2.01s/it]\n"
          ]
        },
        {
          "output_type": "stream",
          "name": "stdout",
          "text": [
            "Epoch 1: Train Loss=2.0282, Train Acc=0.4863, Val Acc=0.6517, Val Loss=1.3018\n",
            "Validation accuracy improved (65.17%). Model saved to best_model.pth\n"
          ]
        },
        {
          "output_type": "stream",
          "name": "stderr",
          "text": [
            "Epoch 2/50 [Train]: 100%|██████████| 28/28 [00:55<00:00,  1.98s/it]\n"
          ]
        },
        {
          "output_type": "stream",
          "name": "stdout",
          "text": [
            "Epoch 2: Train Loss=0.7583, Train Acc=0.7107, Val Acc=0.7683, Val Loss=0.5716\n",
            "Validation accuracy improved (76.83%). Model saved to best_model.pth\n"
          ]
        },
        {
          "output_type": "stream",
          "name": "stderr",
          "text": [
            "Epoch 3/50 [Train]: 100%|██████████| 28/28 [00:56<00:00,  2.03s/it]\n"
          ]
        },
        {
          "output_type": "stream",
          "name": "stdout",
          "text": [
            "Epoch 3: Train Loss=0.3610, Train Acc=0.8110, Val Acc=0.8627, Val Loss=0.3361\n",
            "Validation accuracy improved (86.27%). Model saved to best_model.pth\n"
          ]
        },
        {
          "output_type": "stream",
          "name": "stderr",
          "text": [
            "Epoch 4/50 [Train]: 100%|██████████| 28/28 [00:57<00:00,  2.05s/it]\n"
          ]
        },
        {
          "output_type": "stream",
          "name": "stdout",
          "text": [
            "Epoch 4: Train Loss=0.2287, Train Acc=0.8796, Val Acc=0.9202, Val Loss=0.2222\n",
            "Validation accuracy improved (92.02%). Model saved to best_model.pth\n"
          ]
        },
        {
          "output_type": "stream",
          "name": "stderr",
          "text": [
            "Epoch 5/50 [Train]: 100%|██████████| 28/28 [00:56<00:00,  2.01s/it]\n"
          ]
        },
        {
          "output_type": "stream",
          "name": "stdout",
          "text": [
            "Epoch 5: Train Loss=0.1524, Train Acc=0.9209, Val Acc=0.9565, Val Loss=0.1554\n",
            "Validation accuracy improved (95.65%). Model saved to best_model.pth\n"
          ]
        },
        {
          "output_type": "stream",
          "name": "stderr",
          "text": [
            "Epoch 6/50 [Train]: 100%|██████████| 28/28 [00:57<00:00,  2.04s/it]\n"
          ]
        },
        {
          "output_type": "stream",
          "name": "stdout",
          "text": [
            "Epoch 6: Train Loss=0.1143, Train Acc=0.9448, Val Acc=0.9653, Val Loss=0.1219\n",
            "Validation accuracy improved (96.53%). Model saved to best_model.pth\n"
          ]
        },
        {
          "output_type": "stream",
          "name": "stderr",
          "text": [
            "Epoch 7/50 [Train]: 100%|██████████| 28/28 [00:56<00:00,  2.02s/it]\n"
          ]
        },
        {
          "output_type": "stream",
          "name": "stdout",
          "text": [
            "Epoch 7: Train Loss=0.0799, Train Acc=0.9626, Val Acc=0.9727, Val Loss=0.0918\n",
            "Validation accuracy improved (97.27%). Model saved to best_model.pth\n"
          ]
        },
        {
          "output_type": "stream",
          "name": "stderr",
          "text": [
            "Epoch 8/50 [Train]: 100%|██████████| 28/28 [00:56<00:00,  2.02s/it]\n"
          ]
        },
        {
          "output_type": "stream",
          "name": "stdout",
          "text": [
            "Epoch 8: Train Loss=0.0639, Train Acc=0.9731, Val Acc=0.9805, Val Loss=0.0762\n",
            "Validation accuracy improved (98.05%). Model saved to best_model.pth\n"
          ]
        },
        {
          "output_type": "stream",
          "name": "stderr",
          "text": [
            "Epoch 9/50 [Train]: 100%|██████████| 28/28 [00:56<00:00,  2.01s/it]\n"
          ]
        },
        {
          "output_type": "stream",
          "name": "stdout",
          "text": [
            "Epoch 9: Train Loss=0.0479, Train Acc=0.9798, Val Acc=0.9838, Val Loss=0.0617\n",
            "Validation accuracy improved (98.38%). Model saved to best_model.pth\n"
          ]
        },
        {
          "output_type": "stream",
          "name": "stderr",
          "text": [
            "Epoch 10/50 [Train]: 100%|██████████| 28/28 [00:57<00:00,  2.06s/it]\n"
          ]
        },
        {
          "output_type": "stream",
          "name": "stdout",
          "text": [
            "Epoch 10: Train Loss=0.0377, Train Acc=0.9840, Val Acc=0.9870, Val Loss=0.0475\n",
            "Validation accuracy improved (98.70%). Model saved to best_model.pth\n"
          ]
        },
        {
          "output_type": "stream",
          "name": "stderr",
          "text": [
            "Epoch 11/50 [Train]: 100%|██████████| 28/28 [00:56<00:00,  2.03s/it]\n"
          ]
        },
        {
          "output_type": "stream",
          "name": "stdout",
          "text": [
            "Epoch 11: Train Loss=0.0291, Train Acc=0.9881, Val Acc=0.9880, Val Loss=0.0423\n",
            "Validation accuracy improved (98.80%). Model saved to best_model.pth\n"
          ]
        },
        {
          "output_type": "stream",
          "name": "stderr",
          "text": [
            "Epoch 12/50 [Train]: 100%|██████████| 28/28 [00:56<00:00,  2.01s/it]\n"
          ]
        },
        {
          "output_type": "stream",
          "name": "stdout",
          "text": [
            "Epoch 12: Train Loss=0.0259, Train Acc=0.9911, Val Acc=0.9899, Val Loss=0.0418\n",
            "Validation accuracy improved (98.99%). Model saved to best_model.pth\n"
          ]
        },
        {
          "output_type": "stream",
          "name": "stderr",
          "text": [
            "Epoch 13/50 [Train]: 100%|██████████| 28/28 [00:56<00:00,  2.03s/it]\n"
          ]
        },
        {
          "output_type": "stream",
          "name": "stdout",
          "text": [
            "Epoch 13: Train Loss=0.0216, Train Acc=0.9907, Val Acc=0.9919, Val Loss=0.0425\n",
            "Validation accuracy improved (99.19%). Model saved to best_model.pth\n",
            "Early stopping counter: 1/5\n"
          ]
        },
        {
          "output_type": "stream",
          "name": "stderr",
          "text": [
            "Epoch 14/50 [Train]: 100%|██████████| 28/28 [00:56<00:00,  2.01s/it]\n"
          ]
        },
        {
          "output_type": "stream",
          "name": "stdout",
          "text": [
            "Epoch 14: Train Loss=0.0178, Train Acc=0.9939, Val Acc=0.9922, Val Loss=0.0358\n",
            "Validation accuracy improved (99.22%). Model saved to best_model.pth\n"
          ]
        },
        {
          "output_type": "stream",
          "name": "stderr",
          "text": [
            "Epoch 15/50 [Train]: 100%|██████████| 28/28 [00:56<00:00,  2.03s/it]\n"
          ]
        },
        {
          "output_type": "stream",
          "name": "stdout",
          "text": [
            "Epoch 15: Train Loss=0.0148, Train Acc=0.9957, Val Acc=0.9935, Val Loss=0.0351\n",
            "Validation accuracy improved (99.35%). Model saved to best_model.pth\n"
          ]
        },
        {
          "output_type": "stream",
          "name": "stderr",
          "text": [
            "Epoch 16/50 [Train]: 100%|██████████| 28/28 [00:56<00:00,  2.02s/it]\n"
          ]
        },
        {
          "output_type": "stream",
          "name": "stdout",
          "text": [
            "Epoch 16: Train Loss=0.0130, Train Acc=0.9960, Val Acc=0.9932, Val Loss=0.0257\n"
          ]
        },
        {
          "output_type": "stream",
          "name": "stderr",
          "text": [
            "Epoch 17/50 [Train]: 100%|██████████| 28/28 [00:56<00:00,  2.03s/it]\n"
          ]
        },
        {
          "output_type": "stream",
          "name": "stdout",
          "text": [
            "Epoch 17: Train Loss=0.0130, Train Acc=0.9968, Val Acc=0.9912, Val Loss=0.0265\n",
            "Early stopping counter: 1/5\n"
          ]
        },
        {
          "output_type": "stream",
          "name": "stderr",
          "text": [
            "Epoch 18/50 [Train]: 100%|██████████| 28/28 [00:56<00:00,  2.03s/it]\n"
          ]
        },
        {
          "output_type": "stream",
          "name": "stdout",
          "text": [
            "Epoch 18: Train Loss=0.0109, Train Acc=0.9965, Val Acc=0.9948, Val Loss=0.0386\n",
            "Validation accuracy improved (99.48%). Model saved to best_model.pth\n",
            "Early stopping counter: 2/5\n"
          ]
        },
        {
          "output_type": "stream",
          "name": "stderr",
          "text": [
            "Epoch 19/50 [Train]: 100%|██████████| 28/28 [00:56<00:00,  2.02s/it]\n"
          ]
        },
        {
          "output_type": "stream",
          "name": "stdout",
          "text": [
            "Epoch 19: Train Loss=0.0101, Train Acc=0.9976, Val Acc=0.9925, Val Loss=0.0226\n"
          ]
        },
        {
          "output_type": "stream",
          "name": "stderr",
          "text": [
            "Epoch 20/50 [Train]: 100%|██████████| 28/28 [00:56<00:00,  2.02s/it]\n"
          ]
        },
        {
          "output_type": "stream",
          "name": "stdout",
          "text": [
            "Epoch 20: Train Loss=0.0080, Train Acc=0.9975, Val Acc=0.9938, Val Loss=0.0211\n"
          ]
        },
        {
          "output_type": "stream",
          "name": "stderr",
          "text": [
            "Epoch 21/50 [Train]: 100%|██████████| 28/28 [00:56<00:00,  2.03s/it]\n"
          ]
        },
        {
          "output_type": "stream",
          "name": "stdout",
          "text": [
            "Epoch 21: Train Loss=0.0066, Train Acc=0.9980, Val Acc=0.9942, Val Loss=0.0206\n"
          ]
        },
        {
          "output_type": "stream",
          "name": "stderr",
          "text": [
            "Epoch 22/50 [Train]: 100%|██████████| 28/28 [00:57<00:00,  2.04s/it]\n"
          ]
        },
        {
          "output_type": "stream",
          "name": "stdout",
          "text": [
            "Epoch 22: Train Loss=0.0067, Train Acc=0.9987, Val Acc=0.9945, Val Loss=0.0290\n",
            "Early stopping counter: 1/5\n"
          ]
        },
        {
          "output_type": "stream",
          "name": "stderr",
          "text": [
            "Epoch 23/50 [Train]: 100%|██████████| 28/28 [00:56<00:00,  2.01s/it]\n"
          ]
        },
        {
          "output_type": "stream",
          "name": "stdout",
          "text": [
            "Epoch 23: Train Loss=0.0061, Train Acc=0.9986, Val Acc=0.9922, Val Loss=0.0300\n",
            "Early stopping counter: 2/5\n"
          ]
        },
        {
          "output_type": "stream",
          "name": "stderr",
          "text": [
            "Epoch 24/50 [Train]: 100%|██████████| 28/28 [00:56<00:00,  2.02s/it]\n"
          ]
        },
        {
          "output_type": "stream",
          "name": "stdout",
          "text": [
            "Epoch 24: Train Loss=0.0059, Train Acc=0.9982, Val Acc=0.9938, Val Loss=0.0249\n",
            "Early stopping counter: 3/5\n"
          ]
        },
        {
          "output_type": "stream",
          "name": "stderr",
          "text": [
            "Epoch 25/50 [Train]: 100%|██████████| 28/28 [00:56<00:00,  2.01s/it]\n"
          ]
        },
        {
          "output_type": "stream",
          "name": "stdout",
          "text": [
            "Epoch 25: Train Loss=0.0050, Train Acc=0.9987, Val Acc=0.9951, Val Loss=0.0231\n",
            "Validation accuracy improved (99.51%). Model saved to best_model.pth\n",
            "Early stopping counter: 4/5\n"
          ]
        },
        {
          "output_type": "stream",
          "name": "stderr",
          "text": [
            "Epoch 26/50 [Train]: 100%|██████████| 28/28 [00:56<00:00,  2.03s/it]\n"
          ]
        },
        {
          "output_type": "stream",
          "name": "stdout",
          "text": [
            "Epoch 26: Train Loss=0.0043, Train Acc=0.9993, Val Acc=0.9945, Val Loss=0.0200\n"
          ]
        },
        {
          "output_type": "stream",
          "name": "stderr",
          "text": [
            "Epoch 27/50 [Train]: 100%|██████████| 28/28 [00:56<00:00,  2.01s/it]\n"
          ]
        },
        {
          "output_type": "stream",
          "name": "stdout",
          "text": [
            "Epoch 27: Train Loss=0.0037, Train Acc=0.9992, Val Acc=0.9951, Val Loss=0.0198\n"
          ]
        },
        {
          "output_type": "stream",
          "name": "stderr",
          "text": [
            "Epoch 28/50 [Train]: 100%|██████████| 28/28 [00:56<00:00,  2.03s/it]\n"
          ]
        },
        {
          "output_type": "stream",
          "name": "stdout",
          "text": [
            "Epoch 28: Train Loss=0.0045, Train Acc=0.9994, Val Acc=0.9951, Val Loss=0.0231\n",
            "Early stopping counter: 1/5\n"
          ]
        },
        {
          "output_type": "stream",
          "name": "stderr",
          "text": [
            "Epoch 29/50 [Train]: 100%|██████████| 28/28 [00:56<00:00,  2.01s/it]\n"
          ]
        },
        {
          "output_type": "stream",
          "name": "stdout",
          "text": [
            "Epoch 29: Train Loss=0.0046, Train Acc=0.9997, Val Acc=0.9951, Val Loss=0.0239\n",
            "Early stopping counter: 2/5\n"
          ]
        },
        {
          "output_type": "stream",
          "name": "stderr",
          "text": [
            "Epoch 30/50 [Train]: 100%|██████████| 28/28 [00:56<00:00,  2.03s/it]\n"
          ]
        },
        {
          "output_type": "stream",
          "name": "stdout",
          "text": [
            "Epoch 30: Train Loss=0.0034, Train Acc=0.9994, Val Acc=0.9948, Val Loss=0.0209\n",
            "Early stopping counter: 3/5\n"
          ]
        },
        {
          "output_type": "stream",
          "name": "stderr",
          "text": [
            "Epoch 31/50 [Train]: 100%|██████████| 28/28 [00:56<00:00,  2.00s/it]\n"
          ]
        },
        {
          "output_type": "stream",
          "name": "stdout",
          "text": [
            "Epoch 31: Train Loss=0.0036, Train Acc=0.9990, Val Acc=0.9948, Val Loss=0.0203\n",
            "Early stopping counter: 4/5\n"
          ]
        },
        {
          "output_type": "stream",
          "name": "stderr",
          "text": [
            "Epoch 32/50 [Train]: 100%|██████████| 28/28 [00:57<00:00,  2.05s/it]\n"
          ]
        },
        {
          "output_type": "stream",
          "name": "stdout",
          "text": [
            "Epoch 32: Train Loss=0.0029, Train Acc=0.9999, Val Acc=0.9948, Val Loss=0.0197\n"
          ]
        },
        {
          "output_type": "stream",
          "name": "stderr",
          "text": [
            "Epoch 33/50 [Train]: 100%|██████████| 28/28 [00:56<00:00,  2.01s/it]\n"
          ]
        },
        {
          "output_type": "stream",
          "name": "stdout",
          "text": [
            "Epoch 33: Train Loss=0.0029, Train Acc=0.9994, Val Acc=0.9948, Val Loss=0.0186\n"
          ]
        },
        {
          "output_type": "stream",
          "name": "stderr",
          "text": [
            "Epoch 34/50 [Train]: 100%|██████████| 28/28 [00:56<00:00,  2.02s/it]\n"
          ]
        },
        {
          "output_type": "stream",
          "name": "stdout",
          "text": [
            "Epoch 34: Train Loss=0.0027, Train Acc=0.9999, Val Acc=0.9945, Val Loss=0.0176\n"
          ]
        },
        {
          "output_type": "stream",
          "name": "stderr",
          "text": [
            "Epoch 35/50 [Train]: 100%|██████████| 28/28 [00:56<00:00,  2.01s/it]\n"
          ]
        },
        {
          "output_type": "stream",
          "name": "stdout",
          "text": [
            "Epoch 35: Train Loss=0.0029, Train Acc=0.9996, Val Acc=0.9955, Val Loss=0.0178\n",
            "Validation accuracy improved (99.55%). Model saved to best_model.pth\n",
            "Early stopping counter: 1/5\n"
          ]
        },
        {
          "output_type": "stream",
          "name": "stderr",
          "text": [
            "Epoch 36/50 [Train]: 100%|██████████| 28/28 [00:57<00:00,  2.04s/it]\n"
          ]
        },
        {
          "output_type": "stream",
          "name": "stdout",
          "text": [
            "Epoch 36: Train Loss=0.0025, Train Acc=0.9996, Val Acc=0.9958, Val Loss=0.0179\n",
            "Validation accuracy improved (99.58%). Model saved to best_model.pth\n",
            "Early stopping counter: 2/5\n"
          ]
        },
        {
          "output_type": "stream",
          "name": "stderr",
          "text": [
            "Epoch 37/50 [Train]: 100%|██████████| 28/28 [00:56<00:00,  2.01s/it]\n"
          ]
        },
        {
          "output_type": "stream",
          "name": "stdout",
          "text": [
            "Epoch 37: Train Loss=0.0026, Train Acc=0.9997, Val Acc=0.9951, Val Loss=0.0183\n",
            "Early stopping counter: 3/5\n"
          ]
        },
        {
          "output_type": "stream",
          "name": "stderr",
          "text": [
            "Epoch 38/50 [Train]: 100%|██████████| 28/28 [00:56<00:00,  2.02s/it]\n"
          ]
        },
        {
          "output_type": "stream",
          "name": "stdout",
          "text": [
            "Epoch 38: Train Loss=0.0027, Train Acc=0.9996, Val Acc=0.9951, Val Loss=0.0172\n"
          ]
        },
        {
          "output_type": "stream",
          "name": "stderr",
          "text": [
            "Epoch 39/50 [Train]: 100%|██████████| 28/28 [00:56<00:00,  2.02s/it]\n"
          ]
        },
        {
          "output_type": "stream",
          "name": "stdout",
          "text": [
            "Epoch 39: Train Loss=0.0027, Train Acc=0.9996, Val Acc=0.9951, Val Loss=0.0196\n",
            "Early stopping counter: 1/5\n"
          ]
        },
        {
          "output_type": "stream",
          "name": "stderr",
          "text": [
            "Epoch 40/50 [Train]: 100%|██████████| 28/28 [00:56<00:00,  2.01s/it]\n"
          ]
        },
        {
          "output_type": "stream",
          "name": "stdout",
          "text": [
            "Epoch 40: Train Loss=0.0023, Train Acc=1.0000, Val Acc=0.9955, Val Loss=0.0197\n",
            "Early stopping counter: 2/5\n"
          ]
        },
        {
          "output_type": "stream",
          "name": "stderr",
          "text": [
            "Epoch 41/50 [Train]: 100%|██████████| 28/28 [00:57<00:00,  2.04s/it]\n"
          ]
        },
        {
          "output_type": "stream",
          "name": "stdout",
          "text": [
            "Epoch 41: Train Loss=0.0025, Train Acc=0.9996, Val Acc=0.9955, Val Loss=0.0194\n",
            "Early stopping counter: 3/5\n"
          ]
        },
        {
          "output_type": "stream",
          "name": "stderr",
          "text": [
            "Epoch 42/50 [Train]: 100%|██████████| 28/28 [00:56<00:00,  2.01s/it]\n"
          ]
        },
        {
          "output_type": "stream",
          "name": "stdout",
          "text": [
            "Epoch 42: Train Loss=0.0024, Train Acc=0.9997, Val Acc=0.9958, Val Loss=0.0188\n",
            "Early stopping counter: 4/5\n"
          ]
        },
        {
          "output_type": "stream",
          "name": "stderr",
          "text": [
            "Epoch 43/50 [Train]: 100%|██████████| 28/28 [00:56<00:00,  2.03s/it]\n"
          ]
        },
        {
          "output_type": "stream",
          "name": "stdout",
          "text": [
            "Epoch 43: Train Loss=0.0024, Train Acc=0.9997, Val Acc=0.9958, Val Loss=0.0188\n",
            "Early stopping counter: 5/5\n",
            "Early stopping triggered. Stopping training.\n",
            "\n",
            "Training Complete. Best Validation Accuracy: 99.58%\n"
          ]
        },
        {
          "output_type": "display_data",
          "data": {
            "text/plain": [
              "<Figure size 1400x500 with 2 Axes>"
            ],
            "image/png": "[encoded data removed]"
          },
          "metadata": {}
        }
      ],
      "source": [
        "# --- 7. TRAINING EXECUTION ---\n",
        "\n",
        "# --- Instantiate Model ---\n",
        "in_bands = X_train.shape[-1]\n",
        "model = MultiBranchModelSE(in_bands, NUM_CLASSES).to(device)\n",
        "print(f\"\\nModel instantiated with {in_bands} bands and {NUM_CLASSES} classes.\")\n",
        "\n",
        "class_counts = np.bincount(y_train)\n",
        "weights = 1.0 / (class_counts + 1e-6)\n",
        "weights = torch.tensor(weights, dtype=torch.float32).to(device)\n",
        "\n",
        "criterion = nn.CrossEntropyLoss(weight=weights)\n",
        "optimizer = torch.optim.Adam(model.parameters(), lr=2e-4)\n",
        "scheduler = torch.optim.lr_scheduler.ReduceLROnPlateau(\n",
        "    optimizer, mode='min', factor=0.5, patience=3,\n",
        ")\n",
        "\n",
        "# --- Training Loop Parameters ---\n",
        "num_epochs = 50\n",
        "best_acc = 0.0\n",
        "checkpoint_path = \"best_model.pth\"\n",
        "\n",
        "train_losses = []\n",
        "train_accs = []\n",
        "val_accs = []\n",
        "\n",
        "# --- Early Stopping Parameters ---\n",
        "patience = 5  # epochs to wait before stopping\n",
        "best_val_loss = float(\"inf\")\n",
        "early_stop_counter = 0\n",
        "\n",
        "print(\"\\n--- Starting Training ---\")\n",
        "for epoch in range(num_epochs):\n",
        "    # --- Training ---\n",
        "    model.train()\n",
        "    train_loss, correct, total = 0, 0, 0\n",
        "\n",
        "    for X_batch, y_batch in tqdm(train_loader, desc=f\"Epoch {epoch+1}/{num_epochs} [Train]\"):\n",
        "        X_batch, y_batch = X_batch.to(device), y_batch.to(device)\n",
        "\n",
        "        optimizer.zero_grad()\n",
        "        outputs = model(X_batch)\n",
        "        loss = criterion(outputs, y_batch)\n",
        "        loss.backward()\n",
        "        optimizer.step()\n",
        "\n",
        "        train_loss += loss.item()\n",
        "        _, preds = torch.max(outputs, 1)\n",
        "        correct += (preds == y_batch).sum().item()\n",
        "        total += y_batch.size(0)\n",
        "\n",
        "    train_acc = correct / total\n",
        "    train_losses.append(train_loss / len(train_loader))\n",
        "    train_accs.append(train_acc)\n",
        "\n",
        "    # --- Validation ---\n",
        "    model.eval()\n",
        "    correct, total, val_loss = 0, 0, 0\n",
        "    with torch.no_grad():\n",
        "        for X_batch, y_batch in test_loader:\n",
        "            X_batch, y_batch = X_batch.to(device), y_batch.to(device)\n",
        "            outputs = model(X_batch)\n",
        "            loss = criterion(outputs, y_batch)\n",
        "            val_loss += loss.item()\n",
        "            _, preds = torch.max(outputs, 1)\n",
        "            correct += (preds == y_batch).sum().item()\n",
        "            total += y_batch.size(0)\n",
        "    val_acc = correct / total\n",
        "    val_loss /= len(test_loader)\n",
        "    val_accs.append(val_acc)\n",
        "\n",
        "    print(f\"Epoch {epoch+1}: Train Loss={train_losses[-1]:.4f}, \"\n",
        "          f\"Train Acc={train_acc:.4f}, Val Acc={val_acc:.4f}, Val Loss={val_loss:.4f}\")\n",
        "\n",
        "    scheduler.step(val_loss)\n",
        "\n",
        "    # --- Save Best Model ---\n",
        "    if val_acc > best_acc:\n",
        "        best_acc = val_acc\n",
        "        torch.save(model.state_dict(), checkpoint_path)\n",
        "        print(f\"Validation accuracy improved ({best_acc*100:.2f}%). Model saved to {checkpoint_path}\")\n",
        "\n",
        "    # --- Early Stopping ---\n",
        "    if val_loss < best_val_loss:\n",
        "        best_val_loss = val_loss\n",
        "        early_stop_counter = 0\n",
        "    else:\n",
        "        early_stop_counter += 1\n",
        "        print(f\"Early stopping counter: {early_stop_counter}/{patience}\")\n",
        "        if early_stop_counter >= patience:\n",
        "            print(\"Early stopping triggered. Stopping training.\")\n",
        "            break\n",
        "\n",
        "print(f\"\\nTraining Complete. Best Validation Accuracy: {best_acc*100:.2f}%\")\n",
        "\n",
        "# --- Plotting Training History ---\n",
        "epochs_range = range(1, len(train_losses) + 1)\n",
        "plt.figure(figsize=(14, 5))\n",
        "\n",
        "plt.subplot(1, 2, 1)\n",
        "plt.plot(epochs_range, train_losses, label=\"Train Loss\", color=\"red\")\n",
        "plt.xlabel(\"Epochs\")\n",
        "plt.ylabel(\"Loss\")\n",
        "plt.title(\"Training Loss\")\n",
        "plt.grid(True)\n",
        "plt.legend()\n",
        "\n",
        "plt.subplot(1, 2, 2)\n",
        "plt.plot(epochs_range, train_accs, label=\"Train Acc\", color=\"blue\")\n",
        "plt.plot(epochs_range, val_accs, label=\"Val Acc\", color=\"green\")\n",
        "plt.xlabel(\"Epochs\")\n",
        "plt.ylabel(\"Accuracy\")\n",
        "plt.title(\"Train & Validation Accuracy\")\n",
        "plt.grid(True)\n",
        "plt.legend()\n",
        "\n",
        "plt.tight_layout()\n",
        "plt.show()"
      ]
    },
    {
      "cell_type": "code",
      "execution_count": 10,
      "id": "91b02385-9f32-4e51-8e9b-c92a926a5a7e",
      "metadata": {
        "id": "91b02385-9f32-4e51-8e9b-c92a926a5a7e",
        "colab": {
          "base_uri": "https://localhost:8080/",
          "height": 1000
        },
        "outputId": "90beacac-07c0-4b6c-96ab-d7d3cbac9fd8"
      },
      "outputs": [
        {
          "output_type": "stream",
          "name": "stdout",
          "text": [
            "\n",
            "Loaded model from 'best_model.pth' for evaluation.\n",
            "\n",
            "==================================================\n",
            "CLASSIFICATION REPORT & CONFUSION MATRIX\n",
            "==================================================\n"
          ]
        },
        {
          "output_type": "stream",
          "name": "stderr",
          "text": [
            "Evaluating Test Set: 100%|██████████| 13/13 [00:13<00:00,  1.06s/it]\n"
          ]
        },
        {
          "output_type": "stream",
          "name": "stdout",
          "text": [
            "\n",
            "Overall Test Accuracy: 99.5781%\n",
            "\n",
            "Classification Report (Precision, Recall, F1-Score per class):\n",
            "              precision    recall  f1-score   support\n",
            "\n",
            "           0     1.0000    1.0000    1.0000        14\n",
            "           1     0.9930    0.9930    0.9930       429\n",
            "           2     1.0000    1.0000    1.0000       249\n",
            "           3     1.0000    1.0000    1.0000        72\n",
            "           4     1.0000    0.9862    0.9931       145\n",
            "           5     0.9955    0.9955    0.9955       220\n",
            "           6     1.0000    1.0000    1.0000         9\n",
            "           7     1.0000    1.0000    1.0000       144\n",
            "           8     1.0000    1.0000    1.0000         6\n",
            "           9     1.0000    0.9966    0.9983       292\n",
            "          10     0.9919    0.9946    0.9932       737\n",
            "          11     1.0000    0.9888    0.9944       178\n",
            "          12     1.0000    1.0000    1.0000        62\n",
            "          13     0.9974    1.0000    0.9987       380\n",
            "          14     1.0000    1.0000    1.0000       116\n",
            "          15     0.9333    1.0000    0.9655        28\n",
            "\n",
            "    accuracy                         0.9958      3081\n",
            "   macro avg     0.9944    0.9972    0.9957      3081\n",
            "weighted avg     0.9958    0.9958    0.9958      3081\n",
            "\n"
          ]
        },
        {
          "output_type": "display_data",
          "data": {
            "text/plain": [
              "<Figure size 1200x1000 with 2 Axes>"
            ],
            "image/png": "[encoded data removed]"
          },
          "metadata": {}
        }
      ],
      "source": [
        "# ----------------------------------------------------\n",
        "# 1. EVALUATION AND FULL IMAGE INFERENCE\n",
        "# ----------------------------------------------------\n",
        "import scipy.io as sio\n",
        "from sklearn.metrics import accuracy_score, confusion_matrix, classification_report\n",
        "import joblib\n",
        "import seaborn as sns\n",
        "import os\n",
        "from google.colab import drive # Need to import for mounting\n",
        "import torch # Import explicitly\n",
        "from tqdm import tqdm # Import explicitly\n",
        "import matplotlib.pyplot as plt # Import explicitly\n",
        "\n",
        "\n",
        "num_classes = len(np.unique(y_train))\n",
        "in_bands = X_train.shape[-1]\n",
        "model = MultiBranchModelSE(in_bands, num_classes).to(device)\n",
        "checkpoint_path = \"best_model.pth\"\n",
        "\n",
        "try:\n",
        "    model.load_state_dict(torch.load(checkpoint_path, map_location=device))\n",
        "    model.eval()\n",
        "    print(f\"\\nLoaded model from '{checkpoint_path}' for evaluation.\")\n",
        "\n",
        "except FileNotFoundError:\n",
        "    print(\"\\nFATAL ERROR: 'best_model.pth' not found. Training must be run first.\")\n",
        "    raise\n",
        "\n",
        "# ----------------------------------------------------\n",
        "# 1. Classification Report (Testing Data)\n",
        "# ----------------------------------------------------\n",
        "print(\"\\n\" + \"=\"*50)\n",
        "print(\"CLASSIFICATION REPORT & CONFUSION MATRIX\")\n",
        "print(\"=\"*50)\n",
        "\n",
        "# Run Inference on Test Set\n",
        "all_preds, all_labels = [], []\n",
        "with torch.no_grad():\n",
        "    for X_batch, y_batch in tqdm(test_loader, desc=\"Evaluating Test Set\"):\n",
        "        X_batch, y_batch = X_batch.to(device), y_batch.to(device)\n",
        "        outputs = model(X_batch)\n",
        "        preds = torch.argmax(outputs, dim=1)\n",
        "        all_preds.append(preds.cpu())\n",
        "        all_labels.append(y_batch.cpu())\n",
        "\n",
        "y_pred = torch.cat(all_preds).numpy()\n",
        "y_true = torch.cat(all_labels).numpy()\n",
        "\n",
        "# --- Generate Report and Confusion Matrix ---\n",
        "accuracy = accuracy_score(y_true, y_pred)\n",
        "\n",
        "print(f\"\\nOverall Test Accuracy: {accuracy*100:.4f}%\")\n",
        "\n",
        "# Classification Report\n",
        "print(\"\\nClassification Report (Precision, Recall, F1-Score per class):\")\n",
        "report = classification_report(y_true, y_pred, digits=4, zero_division=0)\n",
        "print(report)\n",
        "\n",
        "# Confusion Matrix Visualization\n",
        "cm = confusion_matrix(y_true, y_pred)\n",
        "plt.figure(figsize=(12, 10))\n",
        "sns.heatmap(cm, annot=True, fmt='d', cmap='Blues',\n",
        "            xticklabels=range(num_classes), yticklabels=range(num_classes))\n",
        "plt.xlabel('Predicted Label')\n",
        "plt.ylabel('True Label')\n",
        "plt.title('Confusion Matrix on Test Data')\n",
        "plt.show()\n"
      ]
    },
    {
      "cell_type": "code",
      "execution_count": 11,
      "id": "a819934e-a444-4bfb-b9f9-7517400eaee0",
      "metadata": {
        "id": "a819934e-a444-4bfb-b9f9-7517400eaee0",
        "colab": {
          "base_uri": "https://localhost:8080/",
          "height": 1000
        },
        "outputId": "d42b8247-161b-4c8d-c4b4-cacda80332f1"
      },
      "outputs": [
        {
          "output_type": "stream",
          "name": "stdout",
          "text": [
            "\n",
            "==================================================\n",
            "FULL IMAGE CLASSIFICATION MAP\n",
            "==================================================\n",
            "Generating classification map for image shape 145x145...\n"
          ]
        },
        {
          "output_type": "stream",
          "name": "stderr",
          "text": [
            "Predicting Pixels: 100%|██████████| 21/21 [01:36<00:00,  4.59s/it]\n"
          ]
        },
        {
          "output_type": "display_data",
          "data": {
            "text/plain": [
              "<Figure size 1200x600 with 2 Axes>"
            ],
            "image/png": "[encoded data removed]"
          },
          "metadata": {}
        },
        {
          "output_type": "display_data",
          "data": {
            "text/plain": [
              "<Figure size 350x600 with 1 Axes>"
            ],
            "image/png": "[encoded data removed]"
          },
          "metadata": {}
        }
      ],
      "source": [
        "import matplotlib.patches as mpatches\n",
        "# ----------------------------------------------------\n",
        "# 2. Full Image Inference (Classification Map)\n",
        "# ----------------------------------------------------\n",
        "print(\"\\n\" + \"=\"*50)\n",
        "print(\"FULL IMAGE CLASSIFICATION MAP\")\n",
        "print(\"=\"*50)\n",
        "\n",
        "try:\n",
        "    # --- Load Raw Data from Google Drive ---\n",
        "    data_raw = sio.loadmat(RAW_DATA_PATH)['indian_pines_corrected'].astype(np.float32)\n",
        "    gt_map   = sio.loadmat(GT_PATH)['indian_pines_gt']\n",
        "    H, W, B = data_raw.shape\n",
        "\n",
        "    # Load the PCA/Norm parameters from the unzipped folder (local Colab storage)\n",
        "    pca_file_path = os.path.join(data_folder, \"pca_and_norm.joblib\")\n",
        "    pca_params = joblib.load(pca_file_path)\n",
        "    pca = pca_params['pca']\n",
        "    band_mean = pca_params['mean']\n",
        "    band_std = pca_params['std']\n",
        "\n",
        "    print(f\"Generating classification map for image shape {H}x{W}...\")\n",
        "\n",
        "    # --- Apply Preprocessing to Full Image ---\n",
        "    data_reshaped = data_raw.reshape(-1, B)\n",
        "    data_norm = (data_reshaped - band_mean) / band_std\n",
        "    data_pca_flat = pca.transform(data_norm)\n",
        "    data_pca = data_pca_flat.reshape(H, W, -1).astype(np.float32)\n",
        "\n",
        "    # --- Apply Training Local Normalization ---\n",
        "    data_final = (data_pca - X_train.mean()) / X_train.std()\n",
        "\n",
        "\n",
        "    # --- Extract Patches for Inference ---\n",
        "    PATCH_SIZE = 25\n",
        "    pad = PATCH_SIZE // 2\n",
        "    data_pad = np.pad(data_final, ((pad, pad), (pad, pad), (0, 0)), mode='constant')\n",
        "\n",
        "    all_image_patches = []\n",
        "    indices = []\n",
        "    for i in range(H):\n",
        "        for j in range(W):\n",
        "            patch = data_pad[i:i + PATCH_SIZE, j:j + PATCH_SIZE, :]\n",
        "            all_image_patches.append(patch)\n",
        "            indices.append((i, j))\n",
        "\n",
        "    all_image_patches = np.array(all_image_patches)\n",
        "\n",
        "    # --- Run Inference (in batches) ---\n",
        "    image_loader = DataLoader(all_image_patches, batch_size=1024, shuffle=False)\n",
        "    full_preds = []\n",
        "\n",
        "    with torch.no_grad():\n",
        "        for X_batch in tqdm(image_loader, desc=\"Predicting Pixels\"):\n",
        "            X_batch = X_batch.to(device)\n",
        "            outputs = model(X_batch)\n",
        "            preds = torch.argmax(outputs, dim=1)\n",
        "            full_preds.append(preds.cpu())\n",
        "\n",
        "    full_preds = torch.cat(full_preds).numpy()\n",
        "\n",
        "    # --- Reconstruct Classification Map ---\n",
        "    classification_map = np.zeros((H, W), dtype=np.uint8)\n",
        "\n",
        "    for idx, (i, j) in enumerate(indices):\n",
        "        classification_map[i, j] = full_preds[idx] + 1 # 0-indexed to 1-16 labels\n",
        "\n",
        "    # Mask out background where GT is 0\n",
        "    classification_map[gt_map == 0] = 0\n",
        "\n",
        "    # --- Visualization ---\n",
        "    from matplotlib.colors import ListedColormap\n",
        "    # Standard Indian Pines colors\n",
        "    colors = [\n",
        "        '#000000', '#0000FF', '#FF0000', '#00FF00', '#00FFFF', '#FFFF00',\n",
        "        '#FF00FF', '#800000', '#808000', '#008000', '#800080', '#008080',\n",
        "        '#000080', '#FF4500', '#FFA500', '#DA70D6', '#32CD32'\n",
        "    ]\n",
        "    class_names=[\n",
        "    \"Background\",               # Index 0\n",
        "    \"Alfalfa\",                  # Index 1\n",
        "    \"Corn-notill\",              # Index 2\n",
        "    \"Corn-mintill\",             # Index 3\n",
        "    \"Corn\",                     # Index 4\n",
        "    \"Grass-pasture\",            # Index 5\n",
        "    \"Grass-trees\",              # Index 6\n",
        "    \"Grass-pasture-mowed\",      # Index 7\n",
        "    \"Hay-windrowed\",            # Index 8\n",
        "    \"Oats\",                     # Index 9\n",
        "    \"Soybean-notill\",           # Index 10\n",
        "    \"Soybean-mintill\",          # Index 11\n",
        "    \"Soybean-clean\",            # Index 12\n",
        "    \"Wheat\",                    # Index 13\n",
        "    \"Woods\",                    # Index 14\n",
        "    \"Buildings-Grass-Trees-Drives\", # Index 15\n",
        "    \"Stone-Steel-Towers\"        # Index 16\n",
        "]\n",
        "    cmap = ListedColormap(colors[:num_classes+1])\n",
        "\n",
        "    plt.figure(figsize=(12, 6))\n",
        "\n",
        "    plt.subplot(1, 2, 1)\n",
        "    plt.imshow(gt_map, cmap=cmap, vmin=0, vmax=num_classes)\n",
        "    plt.title('Ground Truth Map')\n",
        "    plt.axis('off')\n",
        "\n",
        "    plt.subplot(1, 2, 2)\n",
        "    plt.imshow(classification_map, cmap=cmap, vmin=0, vmax=num_classes)\n",
        "    plt.title('Predicted Classification Map')\n",
        "    plt.axis('off')\n",
        "\n",
        "    plt.tight_layout()\n",
        "    plt.show()\n",
        "    legend_patches = []\n",
        "    for i in range(1, num_classes + 1):\n",
        "        color = colors[i]\n",
        "        name = class_names[i]\n",
        "        # Create a colored patch for the legend\n",
        "        patch = mpatches.Patch(color=color, label=name)\n",
        "        legend_patches.append(patch)\n",
        "\n",
        "    # Create the legend plot\n",
        "    plt.figure(figsize=(3.5, 6))\n",
        "    plt.legend(handles=legend_patches,\n",
        "              loc='center',\n",
        "              ncol=1,\n",
        "              frameon=False,\n",
        "              title=\" Classes\")\n",
        "    plt.gca().set_axis_off() # Hide the axes\n",
        "    plt.tight_layout()\n",
        "    plt.show()\n",
        "\n",
        "\n",
        "except FileNotFoundError as e:\n",
        "    print(f\"\\nSkipping Classification Map. A file was not found: {e}.\")\n",
        "    print(\"Ensure you confirmed the raw data file paths inside the script are correct.\")"
      ]
    },
    {
      "cell_type": "code",
      "source": [
        "# Assuming the classification cell just ran successfully.\n",
        "\n",
        "# --- Define Results Directory ---\n",
        "RESULTS_DIR = \"Results\"\n",
        "os.makedirs(RESULTS_DIR, exist_ok=True)\n",
        "print(f\"\\nCreated results directory: {RESULTS_DIR}\")\n",
        "\n",
        "# --- 1. Save Combined Map Image (GT and Prediction) ---\n",
        "\n",
        "# Re-creating the figure using the variables already in memory\n",
        "plt.figure(figsize=(10, 5))\n",
        "\n",
        "plt.subplot(1, 2, 1)\n",
        "# gt_map and cmap should be available from the previous cell\n",
        "plt.imshow(gt_map, cmap=cmap, vmin=0, vmax=NUM_CLASSES)\n",
        "plt.title('Ground Truth Map')\n",
        "plt.axis('off')\n",
        "\n",
        "plt.subplot(1, 2, 2)\n",
        "# classification_map and cmap should be available from the previous cell\n",
        "plt.imshow(classification_map, cmap=cmap, vmin=0, vmax=NUM_CLASSES)\n",
        "plt.title('Predicted Classification Map')\n",
        "plt.axis('off')\n",
        "\n",
        "plt.tight_layout()\n",
        "SAVE_PATH_MAP = os.path.join(RESULTS_DIR, 'IndianPines_Classification_Maps.png')\n",
        "plt.savefig(SAVE_PATH_MAP, bbox_inches='tight', dpi=300)\n",
        "plt.close()\n",
        "print(f\"Saved combined GT and Prediction map to: {SAVE_PATH_MAP}\")\n",
        "\n",
        "\n",
        "# --- 2. Save Classification Map (as raw data) ---\n",
        "\n",
        "# Saving the raw numpy array of predictions for later use\n",
        "np.save(os.path.join(RESULTS_DIR, 'predicted_map_raw.npy'), classification_map)\n",
        "print(f\"Saved raw predicted map data to: {os.path.join(RESULTS_DIR, 'predicted_map_raw.npy')}\")\n",
        "\n",
        "\n",
        "# --- 3. Save Legend Image ---\n",
        "\n",
        "# Re-generating the legend_patches list using existing variables\n",
        "legend_patches = []\n",
        "for i in range(1, NUM_CLASSES + 1):\n",
        "    # colors and class_names should be available from the previous cell\n",
        "    color = colors[i]\n",
        "    name = class_names[i]\n",
        "    patch = mpatches.Patch(color=color, label=name)\n",
        "    legend_patches.append(patch)\n",
        "\n",
        "plt.figure(figsize=(3.5, 6))\n",
        "plt.legend(handles=legend_patches,\n",
        "           loc='center',\n",
        "           ncol=1,\n",
        "           frameon=False,\n",
        "           title=\" Classes\")\n",
        "plt.gca().set_axis_off()\n",
        "plt.tight_layout()\n",
        "\n",
        "SAVE_PATH_LEGEND = os.path.join(RESULTS_DIR, 'IndianPines_Legend.png')\n",
        "plt.savefig(SAVE_PATH_LEGEND, bbox_inches='tight', dpi=300)\n",
        "plt.close()\n",
        "print(f\"Saved legend image to: {SAVE_PATH_LEGEND}\")"
      ],
      "metadata": {
        "colab": {
          "base_uri": "https://localhost:8080/"
        },
        "id": "D8F-xrR7flYD",
        "outputId": "6ec281a2-2835-4737-8992-57845880501c"
      },
      "id": "D8F-xrR7flYD",
      "execution_count": 12,
      "outputs": [
        {
          "output_type": "stream",
          "name": "stdout",
          "text": [
            "\n",
            "Created results directory: Results\n",
            "Saved combined GT and Prediction map to: Results/IndianPines_Classification_Maps.png\n",
            "Saved raw predicted map data to: Results/predicted_map_raw.npy\n",
            "Saved legend image to: Results/IndianPines_Legend.png\n"
          ]
        }
      ]
    },
    {
      "cell_type": "code",
      "source": [
        "import numpy as np\n",
        "import os\n",
        "import matplotlib.pyplot as plt\n",
        "import seaborn as sns\n",
        "\n",
        "\n",
        "from sklearn.metrics import cohen_kappa_score\n",
        "kappa = cohen_kappa_score(y_true, y_pred)\n",
        "\n",
        "SAVE_PATH_REPORT = os.path.join(RESULTS_DIR, 'IndianPines_Testing_Report.txt')\n",
        "\n",
        "with open(SAVE_PATH_REPORT, 'w') as f:\n",
        "    f.write(\"--- Quantitative Classification Results on Test Set ---\\n\")\n",
        "    f.write(f\"Overall Test Accuracy (OA): {accuracy * 100:.4f}%\\n\")\n",
        "    f.write(f\"Kappa Coefficient (Kappa): {kappa:.4f}\\n\")\n",
        "    f.write(\"\\n\" + \"=\"*50 + \"\\n\")\n",
        "    f.write(\"Detailed Classification Report (Per-Class Metrics):\\n\")\n",
        "    f.write(report) # The 'report' variable is the string output from classification_report()\n",
        "\n",
        "print(f\" Saved Quantitative Report to: {SAVE_PATH_REPORT}\")\n",
        "\n",
        "# --- 2. Save Confusion Matrix Plot ---\n",
        "\n",
        "# Adjust labels to exclude 'Background' if your model was trained on 0-15 labels\n",
        "# Your evaluation code used range(num_classes) which is 0-15.\n",
        "plot_labels = class_names[1 : num_classes + 1] # Use the actual class names\n",
        "\n",
        "plt.figure(figsize=(12, 10))\n",
        "sns.heatmap(\n",
        "    cm,\n",
        "    annot=True,\n",
        "    fmt='d',\n",
        "    cmap='Blues',\n",
        "    xticklabels=plot_labels,\n",
        "    yticklabels=plot_labels\n",
        ")\n",
        "\n",
        "plt.xlabel('Predicted Label')\n",
        "plt.ylabel('True Label')\n",
        "plt.title('Confusion Matrix on Test Data')\n",
        "plt.yticks(rotation=0)\n",
        "plt.xticks(rotation=45, ha='right')\n",
        "\n",
        "SAVE_PATH_CM = os.path.join(RESULTS_DIR, 'IndianPines_Confusion_Matrix_Test.png')\n",
        "plt.savefig(SAVE_PATH_CM, bbox_inches='tight', dpi=300)\n",
        "plt.close()\n",
        "\n",
        "print(f\" Saved Confusion Matrix plot to: {SAVE_PATH_CM}\")"
      ],
      "metadata": {
        "colab": {
          "base_uri": "https://localhost:8080/"
        },
        "id": "4nO5SMSmgYFS",
        "outputId": "dfb04fa6-0be4-487b-ac2e-263a8425526c"
      },
      "id": "4nO5SMSmgYFS",
      "execution_count": 13,
      "outputs": [
        {
          "output_type": "stream",
          "name": "stdout",
          "text": [
            " Saved Quantitative Report to: Results/IndianPines_Testing_Report.txt\n",
            " Saved Confusion Matrix plot to: Results/IndianPines_Confusion_Matrix_Test.png\n"
          ]
        }
      ]
    },
    {
      "cell_type": "code",
      "source": [
        "import torch\n",
        "import os\n",
        "\n",
        "MODEL_SAVE_PATH = os.path.join(RESULTS_DIR, 'final_model_state.pth')\n",
        "\n",
        "torch.save(model.state_dict(), MODEL_SAVE_PATH)\n",
        "\n",
        "print(f\"\\n Successfully saved the final model state to: {MODEL_SAVE_PATH}\")"
      ],
      "metadata": {
        "colab": {
          "base_uri": "https://localhost:8080/"
        },
        "id": "vwDrgrO5hGHU",
        "outputId": "4b1c2bb3-ae4d-4448-e15b-f8893f34af3d"
      },
      "id": "vwDrgrO5hGHU",
      "execution_count": 14,
      "outputs": [
        {
          "output_type": "stream",
          "name": "stdout",
          "text": [
            "\n",
            " Successfully saved the final model state to: Results/final_model_state.pth\n"
          ]
        }
      ]
    },
    {
      "cell_type": "code",
      "source": [
        "import torch\n",
        "import os\n",
        "\n",
        "FULL_MODEL_SAVE_PATH = os.path.join(RESULTS_DIR, 'full_model.pth')\n",
        "\n",
        "torch.save(model, FULL_MODEL_SAVE_PATH)\n",
        "\n",
        "print(f\"\\n Successfully saved the full model object to: {FULL_MODEL_SAVE_PATH}\")"
      ],
      "metadata": {
        "colab": {
          "base_uri": "https://localhost:8080/"
        },
        "id": "U5LtsTZDk-NG",
        "outputId": "39e16b1b-ab04-4752-956d-63a8adf7ed64"
      },
      "id": "U5LtsTZDk-NG",
      "execution_count": 15,
      "outputs": [
        {
          "output_type": "stream",
          "name": "stdout",
          "text": [
            "\n",
            " Successfully saved the full model object to: Results/full_model.pth\n"
          ]
        }
      ]
    },
    {
      "cell_type": "code",
      "source": [],
      "metadata": {
        "id": "RB_EANZUlRhh"
      },
      "id": "RB_EANZUlRhh",
      "execution_count": null,
      "outputs": []
    }
  ],
  "metadata": {
    "kernelspec": {
      "display_name": "Python 3",
      "name": "python3"
    },
    "language_info": {
      "codemirror_mode": {
        "name": "ipython",
        "version": 3
      },
      "file_extension": ".py",
      "mimetype": "text/x-python",
      "name": "python",
      "nbconvert_exporter": "python",
      "pygments_lexer": "ipython3",
      "version": "3.11.5"
    },
    "colab": {
      "provenance": [],
      "gpuType": "T4"
    },
    "accelerator": "GPU"
  },
  "nbformat": 4,
  "nbformat_minor": 5
}